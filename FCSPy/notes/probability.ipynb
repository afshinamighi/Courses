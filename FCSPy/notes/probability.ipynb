{
 "cells": [
  {
   "cell_type": "markdown",
   "metadata": {},
   "source": [
    "# Let's *Program to Learn*: Probability\n",
    "\n",
    "**Motivation:** Assume we have data of the weather statistics for the last 200 years. Analysing the data we find out that *on average* in July and in a certain city the weather is rainy for 5 days out of 31 days. Suppose there is not much change in the climate. What would be the probability of having a rainy day on 10th of July in the coming year?\n",
    "In this case, we use the past relative frequency of certain event (rainy days) to predict the event in the future. We achive this by using statistical data from a certain events to assign a *numerical value* to the probability of events. Basically, we are emplying [the empirical law of large numbers](https://en.wikipedia.org/wiki/Law_of_large_numbers). \n",
    "In the following we use this concept to practice probability."
   ]
  },
  {
   "cell_type": "markdown",
   "metadata": {},
   "source": [
    "## Simulation"
   ]
  },
  {
   "cell_type": "markdown",
   "metadata": {},
   "source": [
    "**Problem:** There is a jar containing 3 yellow, 2 red, 2 green and 1 blue marbles. What is the probability of pulling *one yellow* marble?"
   ]
  },
  {
   "cell_type": "markdown",
   "metadata": {},
   "source": [
    "We try to simulate the experiment and find (an estimation) of the answer. \n",
    "The first step is to model the experiment: how should we model the jar and marbles? In order to find a proper structure to define the elements of our experiments, it is important to understand what actions are needed to perform on the elements."
   ]
  },
  {
   "cell_type": "markdown",
   "metadata": {},
   "source": [
    "First, we need to scale down the problem into a simpler case and see how we can simulate an experiment for probability problems. We start with tossing a fair coin. What is the probability of having one *Head*?\n",
    "We simply choose to model the head of the coin with 0 and tail with 1. This is just a choice to make. Another choice would be using a more readable and understandable model: $\\{'H','T'\\}$. How do we model the action of tossing the coin? The result of the action (tossing) is a random selection from $\\{0,1\\}$ (or $\\{'H','T'\\}$) where 0 indicates the head and 1 represents the tail. Let's see how Python supports this operation: check it [here](https://docs.python.org/3/library/random.html)."
   ]
  },
  {
   "cell_type": "code",
   "execution_count": 24,
   "metadata": {},
   "outputs": [
    {
     "name": "stdout",
     "output_type": "stream",
     "text": [
      "Number of heads: 499644\n",
      "Probability of Head: 0.499644\n"
     ]
    }
   ],
   "source": [
    "import random\n",
    "\n",
    "count_head = 0\n",
    "max_num_experiments = 1_000_000\n",
    "for _ in range(0,max_num_experiments):\n",
    "    side = random.randint(0,1)\n",
    "    if side == 0: # if side is Head\n",
    "        count_head = count_head + 1\n",
    "print('Number of heads:',count_head)\n",
    "print('Probability of Head:',count_head/max_num_experiments)"
   ]
  },
  {
   "cell_type": "markdown",
   "metadata": {},
   "source": [
    "We have experienced that based on [the empirical law of large numbers](https://en.wikipedia.org/wiki/Law_of_large_numbers) we can calculate the frequency of an event and find an *estimation* of the probability. \n",
    "Therefore, back to our original jar of marbles problem, we need a structure such that: (1) can simulate pulling the marbles randomly, (2) can log the frequency of target event (*what is our target event?*). We try our first code."
   ]
  },
  {
   "cell_type": "code",
   "execution_count": 2,
   "metadata": {},
   "outputs": [
    {
     "name": "stdout",
     "output_type": "stream",
     "text": [
      "Number of yellow pulls: 374874\n",
      "Probability of pulling one Yellow marble from  ['Y', 'Y', 'R', 'R', 'G', 'Y', 'G', 'B']  is : 0.374874\n"
     ]
    }
   ],
   "source": [
    "import random as rand\n",
    "\n",
    "jar = ['Y','Y','Y','B','R','R','G','G'] # a jar containing 3 yellow, 2 red, 2 green and 1 blue marbles\n",
    "\n",
    "count_yellow = 0 # target event\n",
    "max_num_experiments = 1_000_000\n",
    "\n",
    "for _ in range(0,max_num_experiments):\n",
    "    rand.shuffle(jar) # we shuffle the container\n",
    "    marble = rand.choice(jar) # select an item from a list randomly\n",
    "    if marble == 'Y':\n",
    "        count_yellow = count_yellow + 1\n",
    "print('Number of yellow pulls:',count_yellow)\n",
    "print('Probability of pulling one Yellow marble from ',jar,' is :',count_yellow/max_num_experiments)"
   ]
  },
  {
   "cell_type": "markdown",
   "metadata": {},
   "source": [
    "It seems we have found a solution. But, we become more curious and interested in finding the probability of other events: pulling one red marble? what about pulling one green marble? We need to refactor the code such that we keep the frequencies of all possible events. So after executing the experiment we have the answer for other events."
   ]
  },
  {
   "cell_type": "code",
   "execution_count": 3,
   "metadata": {},
   "outputs": [
    {
     "name": "stdout",
     "output_type": "stream",
     "text": [
      "Number of events: [375464, 249155, 125128, 250253]\n",
      "Probability of pulling one Yellow marble from  ['R', 'B', 'Y', 'Y', 'Y', 'G', 'G', 'R']  is : 0.375464\n",
      "Probability of pulling one Red marble from  ['R', 'B', 'Y', 'Y', 'Y', 'G', 'G', 'R']  is : 0.249155\n",
      "Probability of pulling one Green marble from  ['R', 'B', 'Y', 'Y', 'Y', 'G', 'G', 'R']  is : 0.250253\n",
      "Probability of pulling one Blue marble from  ['R', 'B', 'Y', 'Y', 'Y', 'G', 'G', 'R']  is : 0.125128\n"
     ]
    }
   ],
   "source": [
    "import random as rand\n",
    "\n",
    "jar = ['Y','Y','Y','B','R','R','G','G'] # a jar containing 3 yellow, 2 red, 2 green and 1 blue marbles\n",
    "count_events = [0,0,0,0] # each index indicates a color\n",
    "yellow_index = 0\n",
    "red_index = 1\n",
    "blue_index = 2\n",
    "green_index = 3\n",
    "\n",
    "max_num_experiments = 1_000_000\n",
    "for _ in range(0,max_num_experiments):\n",
    "    rand.shuffle(jar)\n",
    "    marble = rand.choice(jar) # select an item from a list randomly\n",
    "    if marble == 'Y':\n",
    "        count_events[yellow_index] = count_events[yellow_index] + 1\n",
    "    if marble == 'R':\n",
    "        count_events[red_index] = count_events[red_index] + 1\n",
    "    if marble == 'B':\n",
    "        count_events[blue_index] = count_events[blue_index] + 1\n",
    "    if marble == 'G':\n",
    "        count_events[green_index] = count_events[green_index] + 1\n",
    "print('Number of events:',count_events)\n",
    "print('Probability of pulling one Yellow marble from ',jar,' is :',count_events[yellow_index]/max_num_experiments)\n",
    "print('Probability of pulling one Red marble from ',jar,' is :',count_events[red_index]/max_num_experiments)\n",
    "print('Probability of pulling one Green marble from ',jar,' is :',count_events[green_index]/max_num_experiments)\n",
    "print('Probability of pulling one Blue marble from ',jar,' is :',count_events[blue_index]/max_num_experiments)"
   ]
  },
  {
   "cell_type": "markdown",
   "metadata": {},
   "source": [
    "Is it possible to write the code differently? Encoding information as a list of frequencies works fine. But, there are some hidden information which affects the readability and understandability of the code. Let's refactor the code and use dictionaries."
   ]
  },
  {
   "cell_type": "code",
   "execution_count": 4,
   "metadata": {},
   "outputs": [
    {
     "name": "stdout",
     "output_type": "stream",
     "text": [
      "Number of events: {'Y': 374527, 'R': 250737, 'G': 249287, 'B': 125449}\n",
      "Probability of pulling marbles from  ['Y', 'G', 'R', 'B', 'R', 'G', 'Y', 'Y']  is : {'Yellow': 0.374527, 'Red': 0.250737, 'Green': 0.249287, 'Blue': 0.125449}\n"
     ]
    }
   ],
   "source": [
    "import random as rand\n",
    "\n",
    "jar = ['Y','Y','Y','B','R','R','G','G'] # a jar containing 3 yellow, 2 red, 2 green and 1 blue marbles\n",
    "count_events = {'Y':0 , 'R':0 , 'G':0 , 'B':0 } # a dictionary with keys are colors and values as frequencies\n",
    "\n",
    "max_num_experiments = 1_000_000\n",
    "for _ in range(0,max_num_experiments):\n",
    "    rand.shuffle(jar)\n",
    "    marble = rand.choice(jar) # select an item from a list randomly\n",
    "    count_events[marble] = count_events[marble] + 1\n",
    "print('Number of events:',count_events)\n",
    "probabilities = {'Yellow':count_events['Y']/max_num_experiments , 'Red':count_events['R']/max_num_experiments , 'Green':count_events['G']/max_num_experiments , 'Blue':count_events['B']/max_num_experiments }\n",
    "print('Probability of pulling marbles from ',jar,' is :',probabilities)"
   ]
  },
  {
   "cell_type": "markdown",
   "metadata": {},
   "source": [
    "Next step: Refactor the first experiment and make both code as reusable pieces of code segments. Functions in programming can be helpful in dividing long code into smaller segments such that each segment can be reused (called) in other pieces of the program.\n"
   ]
  },
  {
   "cell_type": "code",
   "execution_count": 7,
   "metadata": {},
   "outputs": [
    {
     "name": "stdout",
     "output_type": "stream",
     "text": [
      "Number of events: {'Y': 375368, 'R': 250030, 'G': 249365, 'B': 125237}\n",
      "Probability of pulling marbles from  ['R', 'G', 'R', 'Y', 'Y', 'Y', 'B', 'G']  is : {'Yellow': 0.375368, 'Red': 0.25003, 'Green': 0.249365, 'Blue': 0.125237}\n",
      "Number of events: {'H': 500345, 'T': 499655}\n",
      "Probability of sides: ['T', 'H']  is : {'Head': 0.500345, 'Tail': 0.499655}\n"
     ]
    }
   ],
   "source": [
    "import random as rand\n",
    "\n",
    "\n",
    "max_num_experiments = 1_000_000 # global variable\n",
    "\n",
    "def simulate_marble():\n",
    "    '''This function simulates pulling one marble from a jar containing 3 yellow, 2 red, 2 green and 1 blue marbles.'''\n",
    "    jar = ['Y','Y','Y','B','R','R','G','G'] # a jar containing 3 yellow, 2 red, 2 green and 1 blue marbles\n",
    "    count_events = {'Y':0 , 'R':0 , 'G':0 , 'B':0 } # a dictionary with keys are colors and values as frequencies\n",
    "\n",
    "    for _ in range(0,max_num_experiments):\n",
    "        rand.shuffle(jar)\n",
    "        marble = rand.choice(jar) # select an item from a list randomly\n",
    "        count_events[marble] = count_events[marble] + 1\n",
    "    print('Number of events:',count_events)\n",
    "    probabilities = {'Yellow':count_events['Y']/max_num_experiments , 'Red':count_events['R']/max_num_experiments , 'Green':count_events['G']/max_num_experiments , 'Blue':count_events['B']/max_num_experiments }\n",
    "    print('Probability of pulling marbles from ',jar,' is :',probabilities)\n",
    "\n",
    "def simulate_toss_coin():\n",
    "    '''This function simulates tossing a fair coin.'''\n",
    "    coin = ['H','T']\n",
    "    count_events = {'H':0 , 'T':0}\n",
    "    \n",
    "    for _ in range(0,max_num_experiments):\n",
    "        rand.shuffle(coin)\n",
    "        side = rand.choice(coin)\n",
    "        count_events[side] = count_events[side] + 1\n",
    "    print('Number of events:',count_events)\n",
    "    probabilities = {'Head':count_events['H']/max_num_experiments , 'Tail':count_events['T']/max_num_experiments}\n",
    "    print('Probability of sides:',coin,' is :',probabilities)\n",
    "    \n",
    "simulate_marble()\n",
    "simulate_toss_coin()"
   ]
  },
  {
   "cell_type": "markdown",
   "metadata": {},
   "source": [
    "Reviewing the implementation of both functions we recognise some similarities (*like what?*). Can we improve the code? Let's refactor the code."
   ]
  },
  {
   "cell_type": "code",
   "execution_count": 8,
   "metadata": {},
   "outputs": [
    {
     "name": "stdout",
     "output_type": "stream",
     "text": [
      "{'Y': 0.374752, 'R': 0.250385, 'G': 0.24915, 'B': 0.125713}\n",
      "{'H': 0.4999809, 'T': 0.5000191}\n"
     ]
    }
   ],
   "source": [
    "import random as rand\n",
    "\n",
    "\n",
    "def simulate_one_rand_event(sample_space, frequencies, max_num_experiments = 1_000_000):\n",
    "    '''This function simulates an experiment given the sample space and an structure to calculate frequencies.'''\n",
    "\n",
    "    for _ in range(0,max_num_experiments):\n",
    "        rand.shuffle(sample_space)\n",
    "        sample = rand.choice(sample_space) # select an item from a list randomly\n",
    "        frequencies[sample] = frequencies[sample] + 1\n",
    "    probabilities = {}\n",
    "    for key in frequencies.keys():\n",
    "        probabilities[key] = frequencies[key]/max_num_experiments\n",
    "    return probabilities\n",
    "\n",
    "    \n",
    "def main():\n",
    "    result_marble = simulate_one_rand_event(['Y','Y','Y','B','R','R','G','G'] , {'Y':0 , 'R':0 , 'G':0 , 'B':0 })\n",
    "    result_coin = simulate_one_rand_event(['H','T'] , {'H':0 , 'T':0} , 10_000_000)\n",
    "    print(result_marble)\n",
    "    print(result_coin)\n",
    "\n",
    "main()"
   ]
  },
  {
   "cell_type": "markdown",
   "metadata": {},
   "source": [
    "**Exercise:** Do we need to pass frequencies? Refactor the code. "
   ]
  },
  {
   "cell_type": "markdown",
   "metadata": {},
   "source": [
    "## Theory"
   ]
  },
  {
   "cell_type": "markdown",
   "metadata": {},
   "source": [
    "### Basic Concepts\n",
    "\n",
    "**Relative Frequency:** Suppose $A$ is a random event. The relative frequency of the event $A$ in $n$ repetitions of the experiment is defined as $f_n(A)=n(A)/n$, where $n(A)$ is the number of times that event $A$ occurred in the $n$ repetitions of the experiment. The relative frequency is a number between 0 and 1 (why?).\n",
    "\n",
    "**Random Process:** A process is a random process if after its occurance one outcome out of all its possible outcomes for sure occures. But, it is impossible to predict with certainty which outcome that will be.\n",
    "\n",
    "**Sample Space:** In theory, the sample space of a random process (or an experiment) is the set of all possible outcomes of that experiment. \n",
    "\n",
    "**Event:** Any *subset* of the sample space is called an *event*. \n",
    "\n",
    "**Probability of an Event:** A *probability measure* is simply a function $P$ that assigns a numerical probability to each subset of the sample space. If $S$ is a finite sample space containing all outcomes with equal likelihood and $E$ is an event in $S$, then probability of $E$ will be: $P(E) = |E| / |S|$\n",
    "\n",
    "For example, tossing a fair coin can be considered as a random process. The sample space is the set of all possible outcomes, i.e. $\\{Head, Tail\\}$. One event can be having a head which is the subset $\\{Head\\}$, and another event can be $\\{Tail\\}$. The probability of having head will be: $P(\\{Head\\}) = \\frac{|\\{Head\\}|}{|\\{Head, Tail\\}|} = \\frac{1}{2}=0.5$.\n",
    "\n",
    "**Exercise:** What are the domain, codomain and range of function $P$ (in the coin tossing experiment)?\n"
   ]
  },
  {
   "cell_type": "code",
   "execution_count": 19,
   "metadata": {},
   "outputs": [
    {
     "name": "stdout",
     "output_type": "stream",
     "text": [
      "{'R2', 'R1', 'Y1', 'B', 'G2', 'Y3', 'G1', 'Y2'} {'Yellow': {'Y3', 'Y2', 'Y1'}, 'Red': {'R2', 'R1'}, 'Green': {'G1', 'G2'}, 'Blue': {'B1'}} 0.375\n"
     ]
    }
   ],
   "source": [
    "# **Exercise:** There is a jar containing 3 yellow, 2 red, 2 green and 1 blue marbles. \n",
    "# We pull one marble. What is the random process? What is the sample space? What are the events? \n",
    "# What is the probability of pulling *one yellow* marble?\n",
    "sample_space = set(['Y'+str(i) for i in range(1,4)]+['R'+str(i) for i in range(1,3)]+['G'+str(i) for i in range(1,3)]+['B'])\n",
    "event_marble_is = {'Yellow':set(['Y'+str(i) for i in range(1,4)]),'Red':set(['R'+str(i) for i in range(1,3)]),'Green':set(['G'+str(i) for i in range(1,3)]),'Blue':set(['B'+str(i) for i in range(1,2)])}\n",
    "p = len(event_marble_is['Yellow'])/len(sample_space)\n",
    "print(sample_space , event_marble_is , p)"
   ]
  },
  {
   "cell_type": "markdown",
   "metadata": {},
   "source": [
    "**Problem:** There are two fair coins. We toss both independently and at the same time. What is the probability of having (only) one head? Propose your solution both in Python simulation and theory.\n",
    "\n",
    "**Problem:** What is the probability of getting the sum of 7 when rolling two 6-sided dice? Propose your solution both in Python simulation and theory."
   ]
  },
  {
   "cell_type": "markdown",
   "metadata": {},
   "source": [
    "## We need to count\n",
    "\n",
    "**Motivation:** We have learned that in order to calculate the probability of an event, we need to count. We need to know the size of the event and sample space. In some of the cases it is easy, like tossing a fair coin: there are two possibilities and we need to find the likelihood of one. But, there are some cases that counting is not as simple as tossing a coin. For example, in a survey there are 20 questions with three possible answers for each (yes, no, maybe). What is the probability of ...? In order to calculate the probability of any event here, we need to know the sample space and the size of the event. So, let's explore some basic techniques of counting: 1,2,3,..."
   ]
  },
  {
   "cell_type": "markdown",
   "metadata": {},
   "source": [
    "**Problem:**  In a survey there are 20 questions with three possible answers for each (yes, no, maybe). What is the probability of having no for all quenstions?"
   ]
  },
  {
   "cell_type": "markdown",
   "metadata": {},
   "source": [
    "**Exercise:** Implement a simulation for the experiment and find an estimation for the probability. What is the result? Discuss."
   ]
  },
  {
   "cell_type": "code",
   "execution_count": 20,
   "metadata": {},
   "outputs": [
    {
     "name": "stdout",
     "output_type": "stream",
     "text": [
      "In a survey there are 20 questions with three possible answers for each (yes, no, maybe). What is the probability of having no for all quenstions? {'Freq': 0, 'Prob': 0.0}\n"
     ]
    }
   ],
   "source": [
    "def simulate_survey_qs(num_of_experiments = 10_000_000):\n",
    "    '''In a survey there are 20 questions with three possible answers for each (yes, no, maybe). What is the probability of having no for all quenstions?'''\n",
    "    result = {'Freq':0,'Prob':0.0}\n",
    "    questions = [[0,1,2]]*20 # 0: NO, 1: MAYBE, 2: YES\n",
    "    # todo: implement the experiment here\n",
    "    \n",
    "    result['Prob'] = result['Freq']/num_of_experiments\n",
    "    return result\n",
    "\n",
    "print(simulate_survey_qs.__doc__,simulate_survey_qs())"
   ]
  },
  {
   "cell_type": "markdown",
   "metadata": {},
   "source": [
    "In order to find a solution for the survey problem first we scale dowm the problem and see if we can find a pattern in the solution. Let's assume a survey with only 3 questions. How many possible options do we have for question 1? 3 possible answers, right? Easy. How many options do we have for question 2? Again, 3 options. Now, how many options do we have for the first two questions? Obviously, for each choice for question 1, we have three possible options for question 2. This problem turned to be generating cartesian product of two sets: $Q1=\\{Y,M,N\\}$ and $Q2=\\{Y,M,N\\}$. The result of $Q1 \\times Q2$ (What is the result?) can generate all possible options for answers of questions 1 and 2. If we extend this with possible answers of question 3 then we will have three sets, i.e. $Q1 \\times Q2 \\times Q3$ (what is the result?). Let's generalise this and solve it for 20 questions. What will be the result of $Q1 \\times Q2 \\times ... \\times Q20$?"
   ]
  },
  {
   "cell_type": "markdown",
   "metadata": {},
   "source": [
    "**Exercise (challenging):** Implement your (without using existing libraries) Python solution to generate all possible combinations of the answers for 20 questions."
   ]
  },
  {
   "cell_type": "markdown",
   "metadata": {},
   "source": [
    "While you are busy with proposing your solution for the previous exercise, I take the easy path and use an existing library: [itertools](https://docs.python.org/3/library/itertools.html). Check the code below."
   ]
  },
  {
   "cell_type": "code",
   "execution_count": 23,
   "metadata": {},
   "outputs": [
    {
     "name": "stdout",
     "output_type": "stream",
     "text": [
      "{(1, 2, 1, 1), (2, 1, 0, 0), (2, 1, 1, 1), (0, 1, 2, 1), (0, 1, 1, 2), (0, 1, 0, 0), (2, 2, 1, 0), (0, 2, 2, 1), (2, 2, 0, 1), (1, 0, 2, 2), (0, 2, 0, 1), (2, 0, 0, 1), (1, 0, 1, 0), (0, 2, 1, 2), (0, 0, 2, 0), (2, 2, 2, 1), (1, 1, 0, 1), (2, 0, 1, 1), (2, 0, 2, 0), (0, 0, 2, 2), (1, 1, 2, 0), (1, 2, 1, 0), (2, 0, 2, 2), (2, 1, 1, 0), (2, 1, 0, 2), (1, 2, 0, 1), (0, 1, 2, 0), (1, 2, 1, 2), (1, 2, 2, 1), (0, 1, 1, 1), (1, 1, 1, 0), (0, 0, 0, 0), (2, 1, 1, 2), (2, 1, 2, 1), (1, 0, 0, 1), (0, 1, 0, 2), (2, 2, 1, 2), (0, 2, 2, 0), (1, 0, 2, 1), (2, 0, 0, 0), (0, 2, 1, 1), (1, 1, 1, 2), (0, 0, 0, 2), (0, 0, 1, 1), (1, 0, 1, 2), (2, 0, 0, 2), (0, 0, 2, 1), (1, 1, 2, 2), (2, 1, 0, 1), (1, 2, 0, 0), (0, 1, 2, 2), (1, 2, 2, 0), (0, 1, 1, 0), (2, 2, 0, 0), (0, 2, 0, 0), (2, 1, 2, 0), (1, 0, 0, 0), (1, 2, 0, 2), (0, 1, 0, 1), (2, 2, 1, 1), (2, 2, 2, 0), (1, 1, 0, 0), (1, 0, 2, 0), (0, 2, 2, 2), (1, 2, 2, 2), (2, 2, 0, 2), (0, 2, 1, 0), (0, 2, 0, 2), (1, 1, 1, 1), (0, 0, 0, 1), (2, 0, 1, 0), (0, 0, 1, 0), (2, 1, 2, 2), (1, 0, 0, 2), (1, 0, 1, 1), (2, 2, 2, 2), (1, 1, 0, 2), (2, 0, 1, 2), (2, 0, 2, 1), (0, 0, 1, 2), (1, 1, 2, 1)}\n"
     ]
    }
   ],
   "source": [
    "import itertools as iter\n",
    "\n",
    "options = {0,1,2} # to save some space in the print, 1,2,3 are used instead of No, Maybe, Yes.\n",
    "num_questions = 4 # to manage the space here, num of questions is defined as 4.\n",
    "survey_sample_space = iter.product(options,repeat=num_questions) # check the reference\n",
    "print(set(survey_sample_space))"
   ]
  },
  {
   "cell_type": "markdown",
   "metadata": {},
   "source": [
    "**Exercise:** Back to our original problem (suervey of questions), what is the event? Do you see the event in the generated sample space? What is the probability of having No for a survey of 4 questions? Discuss your solution.\n",
    "\n",
    "**Combinatorics** is field of counting and generating. We have started with this field here and now we would like to formulate it for our problems.\n",
    "\n",
    "**Exercise:** Above we saw how to generate the sample space for a survey of four questions. What is the cardinality? Can you calculate the cardinality of the sample space for a survey of 20 questions? Note: after running your code continue with the rest.\n",
    "\n",
    "**Rule 1 (Multiplication)** If there are $n$ options for stage (step, problem, etc) one and $m$ options for stage two, then there are $m \\times n$ options for both stages provided that stages are *independent*."
   ]
  },
  {
   "cell_type": "markdown",
   "metadata": {},
   "source": [
    "**Exercise:** You are asked to generate unique codes for a group of students using four characters: first character can be I or T, second character must be 0 and the third and fourth characters can be any digit except 0. How many students can be uniquely coded? Implement a program that can generate all the codes.\n",
    "\n"
   ]
  },
  {
   "cell_type": "code",
   "execution_count": 6,
   "metadata": {},
   "outputs": [],
   "source": [
    "'''Exercise: What is the final value of count after finishing the execution?'''\n",
    "\n",
    "count = 0\n",
    "for _ in range(0,25):\n",
    "    for _ in range(5,30):\n",
    "        for _ in range(0,100):\n",
    "            count = count + 1"
   ]
  },
  {
   "cell_type": "markdown",
   "metadata": {},
   "source": [
    "**Exercise:** Let's not forget our starting problem: probablity of having **NO** for all the questions in a survey with 20 questions where each question had three options. What is the cardinality of sample space? What is the carinality of event (no for all the questions)? What is the probability?\n",
    "<!-- Answers: $|sample_space| = 3^{20}$, $|event| = 1$ , $P(\\text{No for all 20 questions})=\\frac{1}{3^{20}}$ -->"
   ]
  },
  {
   "cell_type": "markdown",
   "metadata": {},
   "source": [
    "**Problem:** Assume the word `COMPUTER`. Let's assume we randomly arrange the letters of the word. What is the probability that the letters `CO` remain next to each other as a unit?\n",
    "\n",
    "We will tackle this problem with three different techniques: we implement a simulation in Python, using itertools from Python we generate event and sample space to calculate the probability, and we use multiplication rule to find the answer without programming.\n",
    "\n",
    "*Simulation:* Similar to the previous simulations we simulate the experiment: we shuffle the word and we check if `CO` remains together. See the code below."
   ]
  },
  {
   "cell_type": "code",
   "execution_count": 54,
   "metadata": {},
   "outputs": [
    {
     "name": "stdout",
     "output_type": "stream",
     "text": [
      "Probability (in simulation) of having CO in a random word using COMPUTER is: 0.125148\n"
     ]
    }
   ],
   "source": [
    "import random as rand\n",
    "\n",
    "word = 'COMPUTER'\n",
    "sub_str = 'CO'\n",
    "count = 0\n",
    "max_experiment = 1_000_000\n",
    "for _ in range(0,max_experiment):\n",
    "    word_list = list(word)\n",
    "    rand.shuffle(word_list)\n",
    "    shuffled_word = ''.join(word_list)\n",
    "    if sub_str in shuffled_word:\n",
    "        count+=1\n",
    "print('Probability (in simulation) of having CO in a random word using COMPUTER is:', count/max_experiment)\n",
    "\n"
   ]
  },
  {
   "cell_type": "markdown",
   "metadata": {},
   "source": [
    "**Exercise:** Use your programming skills and try to generalise the above code with the help of functions, higher-order functions."
   ]
  },
  {
   "cell_type": "markdown",
   "metadata": {},
   "source": [
    "*Theory in Python (itertools):* First we need to generate the event and sample space. In order to generate the sample space we need to generate all possible orders of the letters within `COMPUTER`. In combinatorics different arrangements of some objects is called *permitation* and the library `itertools` in Python provides a function for this. Check the code below."
   ]
  },
  {
   "cell_type": "code",
   "execution_count": 59,
   "metadata": {},
   "outputs": [
    {
     "name": "stdout",
     "output_type": "stream",
     "text": [
      "Probability (theory with itertools) of having CO in a random word using COMPUTER is: 0.125\n"
     ]
    }
   ],
   "source": [
    "import itertools as it\n",
    "\n",
    "word = 'COMPUTER'\n",
    "sub_str = 'CO'\n",
    "ss_disjoined = list(it.permutations(word)) # the sample space will be generated with each word as disjoined letters.\n",
    "ss_joined = list(map(''.join,ss_disjoined)) # here we join the letter together for all the words within the sample space.\n",
    "# what is map() ? \n",
    "event = list(filter(lambda s: sub_str in s , ss_joined )) # we remove the words that don't have CO together.\n",
    "# what is filter() here?\n",
    "print('Probability (theory with itertools) of having CO in a random word using COMPUTER is:',len(event)/len(ss_joined))"
   ]
  },
  {
   "cell_type": "markdown",
   "metadata": {},
   "source": [
    "**Exercise:** We used lists for our sample space and event. But we have learned they are sets. Try the solution with sets and check the final result. Why there is no difference?"
   ]
  },
  {
   "cell_type": "markdown",
   "metadata": {},
   "source": [
    "*Theory (without programming):* Let's apply multiplication rule and count the number of elements in the sample space. We would like to generate words using the letters of `COMPUTER`. We have 8 (length of the word) places to fill: 8 options for the first place, 7 options for the second place (why 7? repeatition is not allowed), 6 options for the third place and so on. Then the answer will be $8\\times7\\times6\\times5\\times4\\times3\\times2\\times1$. In mathematics there is shorter way of writing the multiplication of all the numbers less than or equal to 8. They call it as *8 factorial* and they use the notation $!$ for it.\n",
    "Now we need to count the event. We keep `CO` as one unit and try to move this one unit together. If we assume that instead of `CO` we have `X`, then our problem statement becomes \"what are the permutations of the word `XMPUTER`\". The answer is: $7!$ (why?).\n",
    "Now based on the theory of the probability we can say $P(E)=\\frac{7!}{8!}=\\frac{1}{8}$. Does our answer match our previous results?\n",
    "\n",
    "**Define $n!$ ** We can define $n!$ (read is n factorial) recursively as $n!=n\\times(n-1)!$ or simply as $n!=n\\times(n-1)\\times ... \\times 2 \\times 1$ where $...$ means all the numbers between its left and right.\n",
    "**Permutation:** In combinatorics if we are interested in counting all possible arrangements of some objects we call it as permutations of objects. All permutations of $n$ objects (no repeating object) will be $P_{n}=n!$.  "
   ]
  },
  {
   "cell_type": "markdown",
   "metadata": {},
   "source": [
    "It seems we are using more and more functions from `itertools`. Let's spend some time to read practice with them.\n",
    "Here we list some learning resources:\n",
    "- `map()`:[Reference](https://docs.python.org/3/library/functions.html?highlight=map#map), [Examples](https://www.programiz.com/python-programming/methods/built-in/map)\n",
    "- `filter()`: [Reference](https://docs.python.org/3/library/functions.html?highlight=map#filter), [Examples](https://www.programiz.com/python-programming/methods/built-in/filter)\n",
    "- `join()`: [Reference](https://docs.python.org/3/library/stdtypes.html#str.join) , [Examples](https://www.programiz.com/python-programming/methods/string/join)\n",
    "- `zip()`:[Reference](https://docs.python.org/3/library/functions.html?highlight=zip#zip), [Examples](https://www.programiz.com/python-programming/methods/built-in/zip)\n",
    "- `product()`:[Reference](https://docs.python.org/3/library/itertools.html?highlight=combination#itertools.product), [Examples](https://note.nkmk.me/en/python-itertools-product/)\n",
    "- `permutations()`:[Reference](https://docs.python.org/3/library/itertools.html?highlight=permutation#itertools.permutations), [Examples](https://inventwithpython.com/blog/2021/07/03/combinations-and-permutations-in-python-with-itertools/)\n",
    "- `combinations()`:[Reference](https://docs.python.org/3/library/itertools.html?highlight=combination#itertools.combinations) , [Examples](https://inventwithpython.com/blog/2021/07/03/combinations-and-permutations-in-python-with-itertools/)"
   ]
  },
  {
   "cell_type": "code",
   "execution_count": 1,
   "metadata": {},
   "outputs": [],
   "source": [
    "# some useful functions from itertools\n",
    "\n",
    "from itertools import * # what is new here?\n",
    "\n",
    "L1 = list('abc')\n",
    "L2 = list('123')\n",
    "zipped = zip(L1,L2) # aggregates elements from iterables\n",
    "# todo: print elements of zipped \n",
    "# todo: experiment what if iterables of zip do not have same length?\n",
    "# todo: experiment what if we pass more than 2 iterables to zip?\n",
    "s = '_'.join(('a','1'))  # joins string elements of the iterable\n",
    "# todo: check what is the result? what is the separator?\n",
    "# todo: concat elements of zipped without any separator\n",
    "p1 = product(L1,L2)\n",
    "p2 = product(range(1,7),repeat=2) # why repeat= is needed?\n",
    "# print the results\n",
    "\n",
    "# design some exercises here to practice other functions from the list above.\n"
   ]
  },
  {
   "cell_type": "markdown",
   "metadata": {},
   "source": [
    "**Problem:** Assume the word `ANALYSIS`. Let's assume we randomly arrange the letters of the word. What is the probability that the letters `SIS` remain next to each other as a unit?\n",
    "\n",
    "Similar to our previous problem, we will tackle this problem with three different techniques: we implement a simulation in Python, using itertools from Python we generate event and sample space to calculate the probability, and we use multiplication rule to find the answer without programming.\n",
    "\n",
    "*Simulation:* Similar to the previous simulations we simulate the experiment: we shuffle the word and we check if `SIS` remains together. See the code below."
   ]
  },
  {
   "cell_type": "code",
   "execution_count": 1,
   "metadata": {},
   "outputs": [
    {
     "name": "stdout",
     "output_type": "stream",
     "text": [
      "Probability (in simulation) of having SIS in a random word using ANALYSIS is: 0.03593\n"
     ]
    }
   ],
   "source": [
    "import random as rand\n",
    "\n",
    "word = 'ANALYSIS'\n",
    "sub_str = 'SIS'\n",
    "count = 0\n",
    "max_experiment = 1_000_000\n",
    "for _ in range(0,max_experiment):\n",
    "    word_list = list(word)\n",
    "    rand.shuffle(word_list)\n",
    "    shuffled_word = ''.join(word_list)\n",
    "    if sub_str in shuffled_word:\n",
    "        count+=1\n",
    "print('Probability (in simulation) of having SIS in a random word using ANALYSIS is:', count/max_experiment)"
   ]
  },
  {
   "cell_type": "markdown",
   "metadata": {},
   "source": [
    "*Theory in Python (itertools):* First we need to generate the event and sample space. In order to generate the sample space we need to generate all possible orders of the letters within `ANALYSIS`. This is a permutation problem. There is a small difference with the previous case: Some letters are repeated. Check the code below."
   ]
  },
  {
   "cell_type": "code",
   "execution_count": 3,
   "metadata": {},
   "outputs": [
    {
     "name": "stdout",
     "output_type": "stream",
     "text": [
      "Probability (theory with itertools) of having SIS in a random word using the letters of ANALYSIS is: 0.03571428571428571\n"
     ]
    }
   ],
   "source": [
    "import itertools as it\n",
    "\n",
    "word = 'ANALYSIS'\n",
    "sub_str = 'SIS'\n",
    "ss_disjoined = list(it.permutations(word)) # the sample space will be generated with each word as disjoined letters.\n",
    "ss_joined = set(map(''.join,ss_disjoined)) # here we join the letter together for all the words within the sample space.\n",
    "# what is map() ? \n",
    "event = set(filter(lambda s: sub_str in s , ss_joined )) # we remove the words that don't have SIS together.\n",
    "# what is filter() here?\n",
    "print('Probability (theory with itertools) of having SIS in a random word using the letters of ANALYSIS is:',len(event)/len(ss_joined))"
   ]
  },
  {
   "cell_type": "markdown",
   "metadata": {},
   "source": [
    "*Theory (without programming):* This is a permutation problem, but a special type: a permutation with repeated elements. We would like to generate words using the letters of `ANALYSIS`. The letters `A` and `S` are repeated twice. Therefore, $|S|=\\frac{8!}{2!\\times 2!}$ (why?). Similarly, $|E|=\\frac{6!}{2!}$ (why?). Then, $P(E)=\\frac{3\\times 5!}{2\\times 7!}=\\frac{1}{28}$. "
   ]
  },
  {
   "cell_type": "markdown",
   "metadata": {},
   "source": [
    "# [The rest is in progress]"
   ]
  },
  {
   "cell_type": "markdown",
   "metadata": {},
   "source": [
    "**Problem** We toss a fair 6-sided dice. What is the probability of having 6? What is the probability of having any number except 6? How can we tackle this problem? \n",
    "<!-- There are two ways. Let's first discuss the easiest way. We have already learned how to calculate the prbability of having 6. The probability of others except 6 will be 1-P(side is6). How can we justofy this using sets?[todo: rule of addition] -->"
   ]
  },
  {
   "cell_type": "code",
   "execution_count": 13,
   "metadata": {},
   "outputs": [],
   "source": [
    "import itertools as it\n",
    "\n",
    "days = ['Fri','Sat','Sun']\n",
    "dishes = ['Chinese','Mexican','Pizza','Pasta','Fries']\n",
    "dishes_products = it.product(dishes,repeat=len(days))\n",
    "# print(set(dishes_products))\n",
    "mappings = [dict(zip(days,m)) for m in list(dishes_products)]\n",
    "# print('Number of possible mappings:',len(mappings), '\\n Mappings:',mappings)\n",
    "\n"
   ]
  },
  {
   "cell_type": "markdown",
   "metadata": {},
   "source": [
    "**Exercise:** You are asked to generate plate numbers for cars. The plate number will be constructed with a format like: AB-CD-EF-GHIJ where AB are two letters (English alphabets), CD can be any digits except 0, EF are again two letters and GHJI are four digits. As output print only the first 10 numbers. How many cars can be numbered?\n",
    "<!--\n",
    "*Solution:* Apply multiplication rule: $28^{2}\\times8^{2}\\times28^{2}\\times9^{2}}$ The code below will generate all possible numbers with a correct format. \n",
    "-->"
   ]
  },
  {
   "cell_type": "markdown",
   "metadata": {},
   "source": [
    "**Exercise:** You need to go from point A to D. Between these points you need to stop at points B and C to do some shoppings. Between A to B you have three options to commute: $AB=\\{Bus,Tram,Car\\}$. Options between B to C are $BC=\\{Bike, Walk\\}$ and finally $CD=\\{Bus,Bike\\}$. In how many ways you can commute between A and D? Generate the possible options (with and without itertools).\n",
    "<!--\n",
    "*Solution:* Apply multiplication rule and the answer will be $|AB|\\times|BC|\\times|CD|$. To generate all the possible cases we can find the result of $AB \\times BC \\times CD$. The code below will generate all the possible cases. \n",
    "-->"
   ]
  },
  {
   "cell_type": "code",
   "execution_count": 16,
   "metadata": {
    "tags": [
     "hide-cell"
    ]
   },
   "outputs": [],
   "source": [
    "import itertools as it\n",
    "AB={'Bus','Tram','Car'}\n",
    "BC={'Bike', 'Walk'}\n",
    "CD={'Bus','Bike'}\n",
    "commute = set(it.product(AB,BC,CD))\n",
    "#print(commute)"
   ]
  },
  {
   "cell_type": "markdown",
   "metadata": {},
   "source": [
    "**** Assume you want to choose a book from your library. The library has three shelves. Shelf one has 57 books on it, shelf two 26, and shelf three 44. In how many different ways can you choose a book?\n",
    "<!--\n",
    "*Solution:* Apply addition rule. \n",
    "-->"
   ]
  },
  {
   "cell_type": "markdown",
   "metadata": {},
   "source": [
    "Permutation involves arranging a set of objects or data in sequential order and determining the number of ways it can be arranged. An important point to remember here is that the order of arrangement of objects/ data matters in permutation.\n",
    "\n",
    "n! can be applied when repetition is not allowed. Drive the rule from the basic multiplication rule.\n",
    "\n",
    "Example: How many numbers can be generated using the set $S=\\{2,5,6,8\\}$ when:\n",
    "- repetition is allowed.\n",
    "- repetition is not allowed.\n",
    "\n",
    "**Exercise:** There are 10 cars participating in a race. In how many ways they can finish the end line?\n",
    "<!--\n",
    "*Solution:* This is a permutation problem. We need to find the number of possible orders and the order of the sequence matters here. For $n$ objects participating in a race, there is $n!$ possible ways to finish the end line.\n",
    "-->"
   ]
  },
  {
   "cell_type": "markdown",
   "metadata": {},
   "source": [
    "Permutation with repeating elements\n",
    "Example: Assume the name `ANN`. Using the letters of the name:\n",
    "- How many three-letters words (the meanings are not important) can you generate?\n",
    "- In how many ways you can arrange the letters of the name?"
   ]
  },
  {
   "cell_type": "code",
   "execution_count": 62,
   "metadata": {},
   "outputs": [],
   "source": [
    "import itertools as it\n",
    "\n",
    "name = 'ANN'\n",
    "three_let_words = list(it.product(name,repeat=len(name)))\n",
    "#print(three_let_words)\n",
    "words_list = list(map(lambda t : ''.join(t) , three_let_words))\n",
    "words_set = set(words_list)\n",
    "#print(words_list)\n",
    "#print(words_set)\n",
    "arrangements = list(it.permutations(name))\n",
    "arrangements_list = list(map(lambda t:''.join(t), arrangements))\n",
    "#print(arrangements_list)\n",
    "#print(set(arrangements_list))"
   ]
  },
  {
   "cell_type": "markdown",
   "metadata": {},
   "source": [
    "Assume these two names `name=David` and `name_r=Tennessee`. For each one the following problems find the number of possiblities and generate all the possibilities.\n",
    "1. In how many ways you can arrange the order of the letters?\n",
    "2. How many same length words can be generated using the letters?\n",
    "3. How many 3-letter words can be generated using the letters?"
   ]
  },
  {
   "cell_type": "code",
   "execution_count": 61,
   "metadata": {},
   "outputs": [],
   "source": [
    "import itertools as it\n",
    "name = 'abc'\n",
    "#print(list(it.permutations(name,r=2)))\n",
    "#print(list(it.combinations(name,r=2)))\n"
   ]
  },
  {
   "cell_type": "code",
   "execution_count": null,
   "metadata": {},
   "outputs": [],
   "source": []
  },
  {
   "cell_type": "code",
   "execution_count": 52,
   "metadata": {},
   "outputs": [
    {
     "name": "stdout",
     "output_type": "stream",
     "text": [
      "prob is= 0.0357635\n",
      "['A', 'N', 'A', 'L', 'Y', 'SIS']\n",
      "0.03571428571428571\n",
      "0.03571428571428571\n"
     ]
    }
   ],
   "source": [
    "import random as rand\n",
    "import itertools as it\n",
    "\n",
    "word = 'ANALYSIS'\n",
    "substr = 'SIS'\n",
    "\n",
    "#Simulation\n",
    "count = 0\n",
    "max_experiment = 1_0000_000\n",
    "for _ in range(0,max_experiment):\n",
    "    word_list = list(word)\n",
    "    rand.shuffle(word_list)\n",
    "    shuffled = ''.join(word_list)\n",
    "    if substr in shuffled:\n",
    "        count+=1\n",
    "print('prob is=',count/max_experiment)\n",
    "\n",
    "# itertools\n",
    "word_perms = list(it.permutations(word))\n",
    "word_perms_joined = list(map(''.join,word_perms))\n",
    "sample_space = len(set(word_perms_joined))\n",
    "word_sis = list(word.removesuffix(substr))+[substr]\n",
    "event = len(set(it.permutations(word_sis)))\n",
    "print(word_sis)\n",
    "print(event/sample_space)\n",
    "print(1/28)\n",
    "\n",
    "\n"
   ]
  },
  {
   "cell_type": "code",
   "execution_count": 60,
   "metadata": {},
   "outputs": [],
   "source": [
    "import itertools as it\n",
    "word = 'ANALYSIS'\n",
    "word_perms = list(it.permutations(word))\n",
    "word_perms_joined = list(map(''.join,word_perms))\n",
    "#print(word_perms_joined)"
   ]
  },
  {
   "cell_type": "markdown",
   "metadata": {},
   "source": [
    "On the contrary, combination involves arranging or selecting objects/ data from a large set, and the arrangement or order of selection does not matter."
   ]
  },
  {
   "cell_type": "markdown",
   "metadata": {},
   "source": [
    "## Problems:\n",
    "1. A jar contains 30 red marbles, 12 yellow, 8 green and 5 blue. What is the probability that you draw and replace marbles 3 times and you get NO red marble?\n",
    "**"
   ]
  },
  {
   "cell_type": "code",
   "execution_count": null,
   "metadata": {},
   "outputs": [],
   "source": []
  }
 ],
 "metadata": {
  "kernelspec": {
   "display_name": "Python 3.10.2 64-bit",
   "language": "python",
   "name": "python3"
  },
  "language_info": {
   "codemirror_mode": {
    "name": "ipython",
    "version": 3
   },
   "file_extension": ".py",
   "mimetype": "text/x-python",
   "name": "python",
   "nbconvert_exporter": "python",
   "pygments_lexer": "ipython3",
   "version": "3.10.2"
  },
  "vscode": {
   "interpreter": {
    "hash": "aee8b7b246df8f9039afb4144a1f6fd8d2ca17a180786b69acc140d282b71a49"
   }
  }
 },
 "nbformat": 4,
 "nbformat_minor": 4
}
