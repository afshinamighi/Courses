{
 "cells": [
  {
   "cell_type": "markdown",
   "id": "c7ac1d73-b237-4900-a067-0f87d9f16bf2",
   "metadata": {},
   "source": [
    "# Processing Text\n",
    "\n",
    "## Introduction\n",
    "\n",
    "In this short tutorial, we will practice basic concepts of text analysis using spaCy.\n",
    "\n",
    "## spaCy: Basics\n",
    "\n",
    "In this short note we will try basic features of Spacy"
   ]
  },
  {
   "cell_type": "code",
   "execution_count": 7,
   "id": "998ae9f9-8494-4bf2-9cf7-a0a25cf1a335",
   "metadata": {},
   "outputs": [],
   "source": [
    "import spacy\n",
    "\n",
    "en_core_web_model = spacy.load('en_core_web_sm')\n",
    "with open ('texts/wiki_spacy.txt', 'r') as inp_file: \n",
    "    inp_content = inp_file.read()\n",
    "    \n",
    "inp_doc_obj = en_core_web_model(inp_content)"
   ]
  },
  {
   "cell_type": "code",
   "execution_count": 8,
   "id": "b4b4ba55-3891-4823-951a-e156fa2de5c6",
   "metadata": {},
   "outputs": [
    {
     "name": "stdout",
     "output_type": "stream",
     "text": [
      "s\n",
      "p\n",
      "a\n",
      "C\n",
      "y\n",
      "spaCy\n",
      "(\n",
      "/speɪˈsiː/\n",
      "spay\n",
      "-\n"
     ]
    }
   ],
   "source": [
    "# inp_content is different from inp_doc_obj\n",
    "for e in inp_content[:5]:\n",
    "    print(e)\n",
    "for e in inp_doc_obj[:5]:\n",
    "    print(e)"
   ]
  },
  {
   "cell_type": "code",
   "execution_count": 13,
   "id": "96bd4fe5-ff75-4288-984d-9a9c4c50a667",
   "metadata": {},
   "outputs": [
    {
     "name": "stdout",
     "output_type": "stream",
     "text": [
      "s1:  spaCy (/speɪˈsiː/ spay-SEE) is an open-source software library for advanced natural language processing, written in the programming languages Python and Cython.[3][4]\n",
      "s2:  The library is published under the MIT license and its main developers are Matthew Honnibal and Ines Montani, the founders of the software company Explosion.\n",
      "\n",
      "\n",
      "s3:  Unlike NLTK, which is widely used for teaching and research, spaCy focuses on providing software for production usage.[5][6] spaCy also supports deep learning workflows that allow connecting statistical models trained by popular machine learning libraries like TensorFlow, PyTorch or MXNet through its own machine learning library Thinc.[7][8] Using Thinc as its backend, spaCy features convolutional neural network models for part-of-speech tagging, dependency parsing, text categorization and named entity recognition (NER).\n",
      "s4:  Prebuilt statistical neural network models to perform these tasks are available for 23 languages, including English, Portuguese, Spanish, Russian and Chinese, and there is also a multi-language NER model.\n",
      "s5:  Additional support for tokenization for more than 65 languages allows users to train custom models on their own datasets as well.[9]\n",
      "\n"
     ]
    }
   ],
   "source": [
    "# spaCy detects the sentences. It can tokenize the entire text in the level of sentences. It employs 'sentence boundary detection'\n",
    "i = 0\n",
    "for sent in inp_doc_obj.sents:\n",
    "    i+=1\n",
    "    ind = 's'+str(i)+': '\n",
    "    print(ind,sent)"
   ]
  },
  {
   "cell_type": "markdown",
   "id": "49207c6c-e351-4a34-b616-d33c03bd4e9d",
   "metadata": {},
   "source": [
    "### Sentence segmentation:\n",
    "\n",
    "By default, spaCy uses a combination of statistical models and linguistic rules to decide where one sentence ends and another begins. This means that, in some cases, it may not split sentences strictly at a period (.) if the surrounding context suggests that the following text is closely related or part of the same thought (e.g., abbreviations, ellipses, etc.).\n",
    "\n",
    "Here are some key reasons why this happens:\n",
    "\n",
    "1. Dependency Parsing and Linguistic Rules\n",
    "    - SpaCy’s sentence segmentation (or “sentencizer”) relies on dependency parsing and part-of-speech tagging. It tries to account for things like abbreviations (e.g., “Dr.”, “etc.”) or cases where a period doesn’t necessarily mean the end of a sentence (e.g., in numbers, dates).\n",
    "    - The parser may treat closely related clauses or phrases as part of the same sentence, especially if the punctuation suggests the sentences are logically connected.\n",
    "\n",
    "2. Sentence Boundary Detection Model\n",
    "    - If you’re using a trained model in spaCy (like en_core_web_sm, en_core_web_md, etc.), it uses statistical models to determine sentence boundaries, which can sometimes result in sentences being grouped together in a way that might not match your expectations.\n",
    "\n",
    "Note: If you need a stricter rule-based approach where sentences are split only at certain punctuation marks (like a period followed by a space), you can add a custom sentencizer to the pipeline."
   ]
  },
  {
   "cell_type": "code",
   "execution_count": null,
   "id": "fe67877b-913c-4567-b742-2c977250a5c9",
   "metadata": {},
   "outputs": [],
   "source": []
  }
 ],
 "metadata": {
  "kernelspec": {
   "display_name": "Python 3 (ipykernel)",
   "language": "python",
   "name": "python3"
  },
  "language_info": {
   "codemirror_mode": {
    "name": "ipython",
    "version": 3
   },
   "file_extension": ".py",
   "mimetype": "text/x-python",
   "name": "python",
   "nbconvert_exporter": "python",
   "pygments_lexer": "ipython3",
   "version": "3.12.3"
  }
 },
 "nbformat": 4,
 "nbformat_minor": 5
}
