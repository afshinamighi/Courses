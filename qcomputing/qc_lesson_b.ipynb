{
 "cells": [
  {
   "cell_type": "markdown",
   "metadata": {},
   "source": [
    "*Life is complex - it has both real and imaginary parts.* \n",
    "<br>    \\- Anonymous\n",
    "\n",
    "# Background for QC: Summary\n",
    "\n",
    "In this collection, a summary of the main concepts and definitions are provided to support the background that is necessary for learning Quantum Computing. \n",
    "\n",
    "**Reference:** *Michael A. Nielsen, Isaac L. Chuang*; [\"Quantum Computation and Quantum Information\"](https://www.cambridge.org/highereducation/books/quantum-computation-and-quantum-information/01E10196D0A682A6AEFFEA52D53BE9AE#overview)"
   ]
  },
  {
   "cell_type": "markdown",
   "metadata": {},
   "source": []
  },
  {
   "cell_type": "markdown",
   "metadata": {},
   "source": [
    "### Ket and Bra: BraKet\n",
    "\n",
    "**Vector Space:** The space of all n-tuples of complex numbers like $(z_1,\\cdots, z_n)$ is a vector space denoted as $\\mathbb{C}^n$. Each element (each n-tuple) is a vector and sometimes represented as a column matrix notation\n",
    "\n",
    "\\begin{bmatrix}\n",
    "z_1 \\\\ z_2 \\\\ . \\\\ . \\\\ . \\\\ z_n\n",
    "\\end{bmatrix}\n",
    "\n",
    "- $\\mathbb{C}^n$ is closed under addition and scalar multiplication.\n",
    "- Physisits studying quantum mechanics are using $\\ket{\\psi}$ to denote a vector $\\psi$.\n",
    "- $\\mathbb{C}^n$ also contains a special *zero vector* denoted as $0$ which satisfies: $\\ket{v}+0=\\ket{v}$ and $\\ket{v} 0 = 0$. **Note:** $\\ket{0}$ is not the zero vector.\n",
    "- $V$ is a subset of vector space $W$ if $V$ is closed under addition and scalar multiplication.\n",
    "\n",
    "In quantum mechanics, bra notation is part of the Dirac notation and represents a row vector in a complex vector space. It is the conjugate transpose (also known as the Hermitian adjoint) of a ket (column vector). If a ket  $\\Ket{\\psi}$  is represented as a column vector, the corresponding bra  $\\bra{\\psi}$  is the row vector obtained by taking the complex conjugate transpose of the ket.\n",
    "\n",
    "Mathematical Definition:\n",
    "\n",
    "For a ket  $\\ket{\\psi}$  in a two-dimensional vector space, written as a column vector:\n",
    "\n",
    "$\n",
    "\\ket{\\psi} = \\begin{bmatrix} \\alpha \\\\ \\beta \\end{bmatrix}\n",
    "$\n",
    "\n",
    "The corresponding bra  $\\bra{\\psi}$  is:\n",
    "\n",
    "$\n",
    "\\bra{\\psi} = \\begin{bmatrix} \\alpha^* & \\beta^* \\end{bmatrix}\n",
    "$\n",
    "\n",
    "where  $\\alpha^*$  and  $\\beta^*$  are the complex conjugates of  $\\alpha$  and  $\\beta$ ."
   ]
  },
  {
   "cell_type": "markdown",
   "metadata": {},
   "source": [
    "**Spanning set:** A spanning set for a vector space is a set of vectors $\\ket{v_1},\\cdots,\\ket{v_n}$ such that any vector $\\ket{v}$ in the vector space can be written as a linear combination of vectors in that set, i.e.  $\\ket{v} = \\sum a_i \\ket{v_i}$.\n",
    "- *Linearly (in)dependecy*: A set of non-zero vectors $\\ket{v_1}, \\cdots , \\ket{v_n}$ are linearly dependent if there exists a set of non-zero complex numbers $a_i$ for at least one value of $i$, such that $\\sum a_i \\ket{v_i}=0$. Otherwise, they are linearly independent. In a simple word, a set is linearly independent if none of the elements is the result of the linear combination of the other elements.\n",
    "- *basis of a vector space*: The elements of a linearly independent set which span a vector space $V$ are called a basis set for $V$.\n",
    "- *dimension of a vector space*: The cardinality of the basis set of $V$ is defined as the dimension of $V$.\n",
    "\n",
    "\n",
    "\n"
   ]
  },
  {
   "cell_type": "markdown",
   "metadata": {},
   "source": [
    "**Linear Operators:** A linear operator between vector spaces $V$ and $W$ is defined to be any function $A : V \\rightarrow W$ which is linear in its inputs, i.e. $A \\Bigl( \\sum a_i \\ket{v_i} \\Bigr) = \\sum a_i A (\\ket{v_i}) $\n",
    "- Identity operator: $I$ is a linear operator on $V$ ($I: V \\rightarrow V$) defined as: $I \\ket{v} = \\ket{v}$.\n",
    "- Zero operator: $0: V \\rightarrow V$; $0 \\ket{v} = \\ket{v}$.\n",
    "- composition: Assume $A: V \\rightarrow W$ and $B: W \\rightarrow X$. $BA$ is a operator which is defined as the composition of $B$ with $A$ defined as $(BA)(\\ket{v})=B(A\\ket{v})$.\n",
    "- matrix as operator: [todo: define how one can define the matrix based on the semantics of the operator]\n",
    "- The Pauli operations: The Pauli matrices are very common in quantum computing and defined as below\n",
    "\n",
    "$\\sigma_0 \\equiv I \\equiv \\begin{bmatrix} 1 & 0 \\\\ 0 & 1 \\end{bmatrix}$ , $\\sigma_1 \\equiv \\sigma_x \\equiv X \\equiv \\begin{bmatrix} 0 & 1 \\\\ 1 & 0 \\end{bmatrix}$ , $\\sigma_2 \\equiv \\sigma_y \\equiv Y \\equiv \\begin{bmatrix} 0 & -i \\\\ i & 0 \\end{bmatrix}$ , $\\sigma_3 \\equiv \\sigma_z \\equiv Z \\equiv \\begin{bmatrix} 1 & 0 \\\\ 0 & -1 \\end{bmatrix}$\n",
    "\n",
    "- Hadamarad: $H \\equiv \\frac{1}{\\sqrt{2}}\\begin{bmatrix} 1 & 1 \\\\ 1 & -1 \\end{bmatrix}$\n",
    "- Phase operations: $P_{\\theta} \\equiv \\begin{bmatrix} 1 & 0 \\\\ 0 & e^{i\\theta} \\end{bmatrix}$ , $S \\equiv P_{\\frac{\\pi}{2}} \\equiv \\begin{bmatrix} 1 & 0 \\\\ 0 & i \\end{bmatrix}$ , $Z \\equiv P_{\\pi}$"
   ]
  },
  {
   "cell_type": "markdown",
   "metadata": {},
   "source": [
    "**Inner products:** First we define an inner product in $\\mathbb{C}^n$ then a general definition is provided.\n",
    "\n",
    "- Inner product in $\\mathbb{C}^n$: For $V \\in \\mathbb{C}^n$, $(.,.): V \\times V \\rightarrow \\mathbb{C}$ is the inner product of $\\mathbb{C}^n$ and is defined as\n",
    "$\\bigl( (y_1,y_2,\\cdots,y_n) , (z_1,z_2, \\cdots, z_n) \\bigr) \\equiv \\sum y_{i}^{*} z_i = [y_{1}^{*},y_{2}^{*},\\cdots,y_{n}^{*}] \\begin{bmatrix} z_{1} \\\\ z_{2} \\\\ . \\\\ . \\\\ . \\\\  z_{n} \\end{bmatrix}$ \n",
    "\n",
    "- $\\braket{v|w}$: In quantum mechanics $\\braket{v|w}$ denotes the inner product where $\\bra{v}$ is the dual vector of $\\ket{v}$.\n",
    "\n",
    "*General definition:* In general, $(.,.): V \\times V \\rightarrow \\mathbb{C}$ is an inner product if it satisfies the following requirements:\n",
    "- $(.,.)$ is linear in the second argument, i.e.: $\\Bigl( \\ket{v} , \\sum \\lambda_i \\ket{w_i}\\Bigr) = \\sum \\lambda_i (\\ket{v},\\ket{w_i})$\n",
    "- $(\\ket{v},\\ket{w}) = (\\ket{w},\\ket{v})^*$\n",
    "- $(\\ket{v},\\ket{v}) \\geq 0$ with equality if and only if $\\ket{v} =0$\n",
    "\n",
    "*Hilbert space:* Any vector space with inner product is called an inner product space, also known as Hilber space in quantum mechanics.\n",
    "- $\\mathbb{C}^n$ is a Hilbert space.\n",
    "\n",
    "*some results:*\n",
    "- *Orthogonal vectors:* $\\ket{v}$ and $\\ket{w}$ are orthogonal if $\\braket{v|w}=0$.\n",
    "- *Norm:* The norm of a vector $\\ket{v}$ is defined as $\\lVert \\ket{v} \\rVert \\equiv \\sqrt{\\braket{v|v}}$\n",
    "- *Unit vecotor:* A vecotr $\\ket{v}$ is a unit vector if $\\lVert \\ket{v} \\rVert = 1$. \n",
    "- *Normalized vecotr:* $\\frac{\\ket{v}}{\\lVert \\ket{v} \\rVert}$ is the normalized form of $\\ket{v}$.\n",
    "- *Orthonormal vectors:* A set of vectors is orthonormal if each vector is a unit vector, and distinct vectors in the set are orthogonal."
   ]
  },
  {
   "cell_type": "markdown",
   "metadata": {},
   "source": [
    "## Postulates:\n",
    "\n",
    "### Postulate 1 - State Space: \n",
    "Associated to any isolated physical system is a complex vector space with inner product (that is, a Hilbert space) known as the state space of the system. The system is completely described by its state vector, which is a unit vector in the system’s state space.\n",
    "\n",
    "The simplest quantum mechanical system, is the qubit. A qubit has a two-dimensional state space with orthonarmal basis $\\ket{0}$ and $\\ket{1}$. Then an arbitrary state vector in the state space can be written $\\ket{\\psi} = \\alpha \\ket{0} + \\beta \\ket{1}$ where $\\alpha, \\beta \\in \\mathbb{C}$. The condition that $\\ket{\\psi}$ be a unit vector, $\\braket{\\psi | \\psi} = 1$, is therefore equivalent to $\\alpha^2 + \\beta^2 = 1$. The condition $\\braket{\\psi | \\psi} = 1$ is often known as the normalization condition for state vectors.\n",
    "\n",
    "### Postulate 2 - Evolution over time: \n",
    "\n",
    "The evolution of a closed quantum system is described by a *unitary transformation*. That is, the state $\\ket{\\psi_1}$ of the system at time $t_1$ is related to the state $\\ket{\\psi_2}$ of the system at time $t_2$ by a unitary operator $U$ which depends only on the times $t_1$ and $t_2$, $\\ket{\\psi_2} = U \\ket{\\psi_1}$.\n",
    "- A transformatin $U$ is unitary if: $U U^{\\dagger} = \\mathbb{I}$ and $U^{\\dagger} U = \\mathbb{I}$\n",
    "- Why do we need $U$ to be unitary? Because it is equivalent to the condition that transforming by $U$ does not change the Euclidean norm of any vector. Thus, $U$ is unitary if and only if $|| U \\ket{\\psi} || = || \\ket{\\psi} ||$.\n",
    "- Multiplying a unitary matrix to a quantum state vector results in another quantum state vector."
   ]
  },
  {
   "cell_type": "markdown",
   "metadata": {},
   "source": [
    "## Exercises:\n",
    "**Note:** For convenience, instead of the vertical matrix representaion we use n-tuples form of the elements of a vector. For example, instead of $\\begin{bmatrix} 1 \\\\ 0 \\end{bmatrix}$ we will use $(1,0)$.\n",
    " \n",
    "1. Check if $\\bigl\\{(1,0) , (0,1)\\bigr\\}$ is a spanning set for $\\mathbb{C}^2$.\n",
    "2. Check if $\\bigl\\{\\frac{1}{\\sqrt{2}}( 1 , 1 ) , \\frac{1}{\\sqrt{2}}( 1 , -1 ) \\bigr\\}$ is a spanning set for $\\mathbb{C}^2$.\n",
    "3. Show that $\\bigl\\{(1,-1) , (1,2) , (2,1)\\bigr\\}$ is a linearly dependent set.\n",
    "4. Define a linearly independent set for $\\mathbb{C}^2$\n",
    "5. Check if the definition of the inner product in $\\mathbb{C}^2$ satisfies the requirements of the inner product. How about $\\mathbb{C}^n$?\n",
    "6. Show that $X = (HSH)^2$ , i.e. applying $HSH$ twice will result in the NOT operation.\n"
   ]
  },
  {
   "cell_type": "markdown",
   "metadata": {},
   "source": [
    "## Notations and Basic Computations:\n",
    "\n",
    "### General Computation:\n",
    "\n",
    "Usually problem statements in QC requires an input number $x$ and a computation specified by function $f$ to compute $f(x)$. The result of the computation is appearing on a set of extra bits as output register. Assuming $x$ (input register) as a $n$-bit integer and $f(x)$ (output register) as $m$-bit integer, then we will have: $U_f(\\Ket{x}_n\\Ket{y}_m) = \\Ket{x}_n \\Ket{y \\oplus f(x)}_m$ where $U_f$ is a unitary transformation that computes $f$.\n",
    "\n",
    "- If $\\Ket{y}_m=\\Ket{0}_m$, then: $U_f(\\Ket{x}_n\\Ket{0}_m) = \\Ket{x}_n \\Ket{f(x)}_m$ . This means initializing output register with zero, we can have the result of the computation in the output register.\n"
   ]
  },
  {
   "cell_type": "markdown",
   "metadata": {},
   "source": [
    "\n",
    "## Understanding general form of a quantum state \n",
    "\n",
    "The expression $\\ket{\\psi} = \\sum_x \\ket{x} \\bra{x} \\ket{\\psi}$ represents the general form of a quantum state. It is a very elegant way of representing a general quantum state using the computational basis.\n",
    "\n",
    "### General Superposition\n",
    "\n",
    "A general quantum state $ \\ket{\\psi} $ in an $n$-qubit system can be written as: $\\ket{\\psi} = \\sum_x \\alpha_x \\ket{x}$ where:\n",
    "- $\\ket{x}$ are the computational basis states (e.g., $ \\ket{00}, \\ket{01}, \\ldots $)\n",
    "- $\\alpha_x \\in \\mathbb{C}$ are complex coefficients (amplitudes)\n",
    "\n",
    "### Understanding $ \\bra{x} \\ket{\\psi} $\n",
    "\n",
    "The expression $ \\bra{x} \\ket{\\psi} $ is the inner product, which gives the amplitude of $ \\ket{x} $ in $ \\ket{\\psi} $:\n",
    "\n",
    "$\\alpha_x = \\braket{x|\\psi}$\n",
    "\n",
    "So, the term $ \\ket{x} \\bra{x} \\ket{\\psi} $ simply means:\n",
    "\n",
    "$\\alpha_x \\ket{x}$\n",
    "\n",
    "### Putting It All Together:\n",
    "\n",
    "Substituting back, we get: $\\sum_x \\ket{x} \\bra{x} \\ket{\\psi} = \\sum_x \\alpha_x \\ket{x} = \\ket{\\psi}$\n",
    "\n",
    "#### Identity Operator Trick\n",
    "\n",
    "This is equivalent to applying the identity operator: $I = \\sum_x \\ket{x} \\bra{x}$ so that: $\\ket{\\psi} = I \\ket{\\psi} = \\sum_x \\ket{x} \\bra{x} \\ket{\\psi}$\n",
    "\n",
    "This technique is called the **resolution of the identity**, and it's a powerful method in quantum mechanics for analyzing or reconstructing quantum states.\n",
    "\n",
    "#### Intuitive Interpretation\n",
    "\n",
    "Think of $ \\ket{\\psi} $ as a LEGO figure, and each $ \\ket{x} $ is a different type of LEGO block. The expression above tells us how much of each block to use ($ \\bra{x} \\ket{\\psi} $) to reconstruct the full figure.\n",
    "\n"
   ]
  },
  {
   "cell_type": "markdown",
   "metadata": {},
   "source": [
    "## Learning References\n",
    "\n",
    "1. [A collection of lecture notes](https://courses.cs.washington.edu/courses/cse599d/06wi/)\n",
    "2. Medium:\n",
    "    - (Visualising Quantum State)[https://medium.com/quantum-untangled/quantum-states-and-the-bloch-sphere-9f3c0c445ea3]\n",
    "    - (Phase Kickback as a clever trick)[https://medium.com/quantum-untangled/a-clever-quantum-trick-54f27e2518a4]\n",
    "    - (Phase Kickback)[https://medium.com/nerd-for-tech/one-try-qc-explained-5b466c199616]\n",
    "    - (The Deutsch-Jozsa Algorithm)[https://medium.com/quantum-untangled/the-deutsch-jozsa-algorithm-math-circuits-and-code-quantum-algorithms-untangled-f3b28be4cfd3]\n",
    "    - (Visualising Quantum Gates)[https://medium.com/quantum-untangled/visualizing-quantum-logic-gates-part-1-515bb7b58916]\n",
    "    - (What is Quantum Phase factor?)[https://pavanjayasinha.medium.com/but-what-is-a-quantum-phase-factor-d05c15c321fe]\n",
    "\n"
   ]
  }
 ],
 "metadata": {
  "kernelspec": {
   "display_name": "Python 3",
   "language": "python",
   "name": "python3"
  },
  "language_info": {
   "codemirror_mode": {
    "name": "ipython",
    "version": 3
   },
   "file_extension": ".py",
   "mimetype": "text/x-python",
   "name": "python",
   "nbconvert_exporter": "python",
   "pygments_lexer": "ipython3",
   "version": "3.12.6"
  }
 },
 "nbformat": 4,
 "nbformat_minor": 2
}
