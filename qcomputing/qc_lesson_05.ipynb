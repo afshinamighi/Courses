{
 "cells": [
  {
   "cell_type": "markdown",
   "metadata": {},
   "source": [
    "# [In progress]\n",
    "\n",
    "## Introduction\n",
    "\n",
    "[todo]"
   ]
  },
  {
   "cell_type": "markdown",
   "metadata": {},
   "source": [
    "## Phase Kickback\n",
    "\n",
    "Consider a 3-qubit quantum system:\n",
    "\n",
    "- The first two qubits represent the input $x \\in \\{\\ket{00}, \\ket{01}, \\ket{10}, \\ket{11}\\}$\n",
    "- The third qubit is the output qubit $y$, initialized to $\\ket{1}$\n",
    "- Apply a Hadamard gate $H$ on the output qubit: $ H\\ket{1} = \\frac{1}{\\sqrt{2}} (\\ket{0} - \\ket{1}) $\n",
    "\n",
    "The initial state becomes: $\\ket{x} \\otimes H \\ket{1} = \\ket{x} \\otimes \\frac{1}{\\sqrt{2}} (\\ket{0} - \\ket{1})$\n",
    "\n",
    "Now we apply the Oracle $U_f$. The oracle $U_f$ implements a classical function $f : \\{0,1\\}^2 \\to \\{0,1\\}$ as follows: $U_f \\ket{x} \\ket{y} = \\ket{x} \\ket{y \\oplus f(x)}$\n",
    "\n",
    "We apply $U_f$ to: $\\ket{x} \\otimes \\frac{1}{\\sqrt{2}} (\\ket{0} - \\ket{1})$\n",
    "\n",
    "This gives:\n",
    "\n",
    "$U_f \\left( \\ket{x} \\otimes \\frac{1}{\\sqrt{2}} (\\ket{0} - \\ket{1}) \\right)\n",
    "= \\frac{1}{\\sqrt{2}} \\left( \\ket{x} \\ket{0 \\oplus f(x)} - \\ket{x} \\ket{1 \\oplus f(x)} \\right)$\n",
    "\n",
    "We already know that: $0 \\oplus f(x) = f(x) , 1 \\oplus f(x) = 1 - f(x)$\n",
    "\n",
    "So we get: $\\frac{1}{\\sqrt{2}} ( \\ket{x} \\ket{f(x)} - \\ket{x} \\ket{1 - f(x)} )$\n",
    "\n",
    "Now we factor:\n",
    "\n",
    "- If $f(x) = 0$, the result is $\\ket{x} \\otimes \\frac{1}{\\sqrt{2}} (\\ket{0} - \\ket{1})$\n",
    "- If $f(x) = 1$, the result is $\\ket{x} \\otimes \\frac{1}{\\sqrt{2}} (\\ket{1} - \\ket{0}) = -\\ket{x} \\otimes \\frac{1}{\\sqrt{2}} (\\ket{0} - \\ket{1})$\n",
    "\n",
    "We can rewrite these two cases in one formula: $(-1)^{f(x)} \\cdot \\ket{x} \\cdot \\frac{1}{\\sqrt{2}} (\\ket{0} - \\ket{1})$\n",
    "\n",
    "In summary, applying $f$ on a set of inputs with one output that is in superposition will be written as:\n",
    "$U_f(\\ket{x} \\otimes H \\ket{1}) = (-1)^{f(x)} (\\ket{x} \\otimes H \\ket{1})$\n",
    "\n",
    "This phenomenon is called **phase kickback**: The function value $f(x)$ is encoded in the global phase $(-1)^{f(x)}$ of $\\ket{x}$. Even though $f(x)$ is applied to the output qubit, the input register picks up a phase depending on $f(x)$. This is why applying $U_f$ in this setup effectively multiplies $\\ket{x}$ by $(-1)^{f(x)}$.\n",
    "\n",
    "**Exercise** Implement a code where phase kickback can be practically experimented in a circuit of 4 qubits. Start with defining the Oracle $f(x)$.\n"
   ]
  },
  {
   "cell_type": "markdown",
   "metadata": {},
   "source": [
    "## Quantum Parallelism\n",
    "\n",
    "[todo]"
   ]
  },
  {
   "cell_type": "markdown",
   "metadata": {},
   "source": [
    "## Summary\n",
    "\n",
    "[todo]"
   ]
  }
 ],
 "metadata": {
  "kernelspec": {
   "display_name": "Python 3 (ipykernel)",
   "language": "python",
   "name": "python3"
  },
  "language_info": {
   "codemirror_mode": {
    "name": "ipython",
    "version": 3
   },
   "file_extension": ".py",
   "mimetype": "text/x-python",
   "name": "python",
   "nbconvert_exporter": "python",
   "pygments_lexer": "ipython3",
   "version": "3.13.2"
  }
 },
 "nbformat": 4,
 "nbformat_minor": 4
}
