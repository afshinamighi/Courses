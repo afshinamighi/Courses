{
 "cells": [
  {
   "cell_type": "markdown",
   "metadata": {},
   "source": [
    "# [In progress]\n",
    "\n",
    "## Introduction\n",
    "\n",
    "[todo: this lesson provides small steps towards learning and understanding the Grover's search algorithm]"
   ]
  },
  {
   "cell_type": "markdown",
   "metadata": {},
   "source": [
    "## Reflections\n",
    "\n",
    "In linear algebra, a reflection is a transformation that *flips* a vector across a subspace — usually a line, plane, or hyperplane that passes through the origin. Simply speaking, reflection is similar to placing a mirror along a subspace and finding the mirrored version of a vector. As a simple example in 2D space, the reflection of \n",
    "$v=\\begin{bmatrix} 3 \\\\ 4 \\end{bmatrix}$ \n",
    "about the $x$-axis is \n",
    "$\\text{ref}(v)=\\begin{bmatrix} 3 \\\\ -4 \\end{bmatrix}$. \n",
    "\n",
    "How can we define reflection using basic operations such as addition and subtraction?\n",
    "\n",
    "We continue using our ket notation. Let $\\ket{x}$ and $\\ket{y}$ be computational basis states. Consider the general state \n",
    "$\\ket{\\phi} = a \\ket{x} + b \\ket{y}$. \n",
    "The reflection of $\\ket{\\phi}$ about $\\ket{x}$ is given by \n",
    "$\\text{ref}(\\ket{\\phi}) = a \\ket{x} - b \\ket{y}$. \n",
    "We want to express this reflection using only basic operations.\n",
    "\n",
    "\n",
    "$\\text{ref}(\\ket{\\phi}) = \\ket{\\phi} - b \\ket{y} - b \\ket{y} = \\ket{\\phi} - 2b \\ket{y}$\n",
    "\n",
    "\n",
    "This means that if we know the coefficient $b$, we can compute the reflected state $\\ket{\\phi}$. Can we construct a matrix (a transformer) that performs this reflection? The goal is to subtract twice the $\\ket{y}$ component from the state.\n",
    "\n",
    "To achieve this, we first need a transformer that extracts only the $\\ket{y}$ component of the state. \n",
    "\n",
    "Reviewing the basics of linear algebra, we recall that a projection operator maps a vector onto a line (or subspace). In 2D, this usually means projecting a vector onto another vector.\n",
    "\n",
    "**Exercise:** How can we compute the projection of a vector $v$ onto itself?\n",
    "\n",
    "Each term like $\\ket{y}\\bra{y}$ (an outer product) is a projection operator onto the direction $\\ket{y}$. The matrix $\\ket{y}\\bra{y}$, when applied to a state $\\ket{\\phi}$, retains only the $\\ket{y}$ component and eliminates the components orthogonal to $\\ket{y}$.\n",
    "\n",
    "**Exercise:** Prove that $I = \\ket{x}\\bra{x} + \\ket{y}\\bra{y}$, where $\\ket{x}$ and $\\ket{y}$ are basis vectors.\n",
    "\n",
    "**Exercise:** Compute $T = I - 2 \\ket{y}\\bra{y}$.\n",
    "\n",
    "**Exercise:** Assume $\\ket{\\phi} = a \\ket{x} + b \\ket{y}$. Prove that $T \\ket{\\phi}$ reflects $\\ket{\\phi}$ about $\\ket{y}$. Use both matrix and algebraic approaches.\n",
    "\n",
    "**Exercise:** Prove that $T$ can be rewritten as $T = 2 \\ket{x}\\bra{x} - I$ \\ket{\\phi}$.\n",
    "\n",
    "\n",
    "Following the exercises above, we can conclude that \n",
    "\n",
    "$T = I - 2 \\ket{y}\\bra{y}$\n",
    "\n",
    "is the reflection operator we were aiming to construct. In simple terms:\n",
    "\n",
    "$(I - 2 \\ket{y}\\bra{y})\\ket{\\phi} = \\ket{\\phi} - 2b \\ket{y}$\n",
    "\n",
    "This operator performs the desired reflection by subtracting twice the $\\ket{y}$ component from the state $\\ket{\\phi}$.\n",
    "\n",
    "So far, we have explained reflections using the basis vectors $\\ket{x}$ and $\\ket{y}$. However, this approach can be easily generalized to any dimension and any basis."
   ]
  },
  {
   "cell_type": "markdown",
   "metadata": {},
   "source": [
    "## Quantum Parallelism\n",
    "\n",
    "[todo]"
   ]
  },
  {
   "cell_type": "markdown",
   "metadata": {},
   "source": [
    "## Summary\n",
    "\n",
    "[todo]"
   ]
  }
 ],
 "metadata": {
  "kernelspec": {
   "display_name": "venv-qiskit",
   "language": "python",
   "name": "python3"
  },
  "language_info": {
   "codemirror_mode": {
    "name": "ipython",
    "version": 3
   },
   "file_extension": ".py",
   "mimetype": "text/x-python",
   "name": "python",
   "nbconvert_exporter": "python",
   "pygments_lexer": "ipython3",
   "version": "3.13.2"
  }
 },
 "nbformat": 4,
 "nbformat_minor": 4
}
