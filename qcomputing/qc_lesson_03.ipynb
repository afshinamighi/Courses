{
 "cells": [
  {
   "cell_type": "markdown",
   "metadata": {},
   "source": [
    "# [In Progress]\n",
    "\n",
    "Some basic notes:\n",
    "- Multiple qbits: tensor product of multiple single qbit. How one can interpret multiple qbits? For example, a 4*1 vector, all values 1/2.\n",
    "- From classical xor to cNot (use ideas from slides)\n",
    "- Computational Model: A model that can decribe possible computations. A state machine is a simple model can be used to model $\\neg 1 = 0$ and $\\neg 0 = 1$: current state, operation, next state.\n",
    "- Tensor product with an example. Multiple classical bits can be represented by the tensor products of their bits. The result is called product state. Exercise: Having a product state, how can we factor the bits?\n",
    "- CNOT Operation: to be elaborated. Model the transformation in two classical bits. Exercise: Apply CNot on 00, 10, 11, using details of the mathematical steps.\n",
    "- Addition is one of those math operations that quantum computers are behaving as classical computers. So there is no gain here. Todo: write down the operations and transformations needed for addition.\n"
   ]
  }
 ],
 "metadata": {
  "kernelspec": {
   "display_name": "Python 3 (ipykernel)",
   "language": "python",
   "name": "python3"
  },
  "language_info": {
   "codemirror_mode": {
    "name": "ipython",
    "version": 3
   },
   "file_extension": ".py",
   "mimetype": "text/x-python",
   "name": "python",
   "nbconvert_exporter": "python",
   "pygments_lexer": "ipython3",
   "version": "3.13.2"
  }
 },
 "nbformat": 4,
 "nbformat_minor": 4
}
