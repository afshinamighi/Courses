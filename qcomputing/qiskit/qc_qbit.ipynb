{
 "cells": [
  {
   "cell_type": "markdown",
   "metadata": {},
   "source": [
    "\n",
    "# Qbit: Expansion of Cbit\n",
    "\n",
    "Quantum information is an extentin of the classical information. In order to understand and study quantum information, we need to have a solid background about classical information.\n",
    "\n",
    "## Cbit\n",
    "Classical information is represented by classical bits (cbit). A cbit can be decoded using only two states: 0 and 1. Mainly using one cbit we can represent two states. For example, when we toss a coin, the end result (head or tail) can be encoded with one cbit. In order to encode more information, we need more bits. A swith with four states On, Off, Dimmed, Flashing can be represented by two cbits. \n",
    "\n",
    "Any operation on one (or more) cbit can change the state and transform the system into a new state. A light, with only two states, can be defined as a deterministic system. Toggling the switch of the light is an operation that negates the current state of the light, i.e. it becomes On (1) if it is Off (0). However, tossing a coin does not necessarily negates the current state of the coin. It can be considered as a probabilistic system, if we don't have knowledge about the physical property of the coin and operation (amount of the force and angle of tossing). Here we only study a determinstic system.\n",
    "\n",
    "Here is a truth table for NOT which is visualized as  <img src=\"./pix/cbit_op_not.png\" alt=\"Cbit: Operation NOT\" width=\"5%\" />\n",
    "\n",
    "input|output\n",
    "--|--\n",
    "0 | 1\n",
    "1 | 0\n",
    "\n",
    "It is very common to visualise the transformation from the current state to the next state using state machines diagrams. \n",
    "\n",
    "## QBit\n",
    "\n",
    "Quantum information extends classical information mainly through the extension of the cbits. The state zero in qbit is not anymore the number 0, but it is the vector $ \\begin{bmatrix} 1 \\\\ 0 \\end{bmatrix} $. Similarly, the state one in qbit is a column vector the value of the second item is 1, i.e. $ \\begin{bmatrix} 0 \\\\ 1 \\end{bmatrix} $.\n",
    "\n",
    "Since the states are vectors we can visualise them in a cartesian coordinate system. Please note that this is just a simplified version of visualisation. It is not a general solution for visualising a quantum bit. \n",
    "\n",
    "<img src=\"./pix/qb_states_basic.png\" alt=\"Qbit: simplified state representation\" width=\"10%\" />\n",
    "\n",
    "Let's assume the initial state of a qbit is $ \\begin{bmatrix} 1 \\\\ 0 \\end{bmatrix} $. Applying a NOT must transform the state of the qbit into  $ \\begin{bmatrix} 0 \\\\ 1 \\end{bmatrix} $. The arrow visualizes such a stransformation.\n",
    "\n",
    "<img src=\"./pix/qb_states_not.png\" alt=\"Qbit: simplified state representation\" width=\"10%\" />\n"
   ]
  }
 ],
 "metadata": {
  "kernelspec": {
   "display_name": "qiskit_venv",
   "language": "python",
   "name": "python3"
  },
  "language_info": {
   "name": "python",
   "version": "3.12.1"
  }
 },
 "nbformat": 4,
 "nbformat_minor": 2
}
