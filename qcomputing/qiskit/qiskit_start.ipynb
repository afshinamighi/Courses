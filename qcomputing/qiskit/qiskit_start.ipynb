{
 "cells": [
  {
   "cell_type": "markdown",
   "metadata": {},
   "source": []
  },
  {
   "cell_type": "markdown",
   "metadata": {},
   "source": [
    "# Basics of Qiskit"
   ]
  },
  {
   "cell_type": "code",
   "execution_count": 36,
   "metadata": {},
   "outputs": [
    {
     "data": {
      "text/plain": [
       "array([0.5, 0.5])"
      ]
     },
     "metadata": {},
     "output_type": "display_data"
    },
    {
     "data": {
      "text/plain": [
       "array([[1. , 1. ],\n",
       "       [0.5, 0. ]])"
      ]
     },
     "metadata": {},
     "output_type": "display_data"
    },
    {
     "data": {
      "text/plain": [
       "array([1, 0])"
      ]
     },
     "metadata": {},
     "output_type": "display_data"
    },
    {
     "data": {
      "text/plain": [
       "array([[2, 1],\n",
       "       [0, 0]])"
      ]
     },
     "metadata": {},
     "output_type": "display_data"
    },
    {
     "data": {
      "text/plain": [
       "array([[1, 1],\n",
       "       [1, 1]])"
      ]
     },
     "metadata": {},
     "output_type": "display_data"
    }
   ],
   "source": [
    "# basics of vectors using numpy\n",
    "from numpy import array # type: ignore\n",
    "from numpy import matmul # type: ignore\n",
    "\n",
    "# simple vectors\n",
    "ket0 = array([1, 0])\n",
    "ket1 = array([0, 1])\n",
    "display(ket0 / 2 + ket1 / 2) # alt:  (ket0 / 2 + ket1 / 2) \n",
    "\n",
    "# simple operations\n",
    "M1 = array([[1, 1], [0, 0]])\n",
    "M2 = array([[1, 1], [1, 0]])\n",
    "display(M1 / 2 + M2 / 2) # alt: (M1 / 2 + M2 / 2) \n",
    "\n",
    "# applying operations with matrix multiplications\n",
    "display(matmul(M1, ket1))\n",
    "display(matmul(M1, M2))\n",
    "display(matmul(M2, M1))"
   ]
  },
  {
   "cell_type": "code",
   "execution_count": 37,
   "metadata": {},
   "outputs": [
    {
     "data": {
      "text/latex": [
       "$$\\frac{\\sqrt{2}}{2} |0\\rangle+\\frac{\\sqrt{2}}{2} |1\\rangle$$"
      ],
      "text/plain": [
       "<IPython.core.display.Latex object>"
      ]
     },
     "metadata": {},
     "output_type": "display_data"
    },
    {
     "data": {
      "text/plain": [
       "[ 0.33333333+0.66666667j,-0.66666667+0.j        ]"
      ]
     },
     "metadata": {},
     "output_type": "display_data"
    },
    {
     "data": {
      "text/latex": [
       "$$\\frac{1}{3} |0\\rangle+\\frac{2}{3} |1\\rangle$$"
      ],
      "text/plain": [
       "<IPython.core.display.Latex object>"
      ]
     },
     "metadata": {},
     "output_type": "display_data"
    },
    {
     "data": {
      "text/plain": [
       "True"
      ]
     },
     "metadata": {},
     "output_type": "display_data"
    },
    {
     "data": {
      "text/plain": [
       "False"
      ]
     },
     "metadata": {},
     "output_type": "display_data"
    },
    {
     "data": {
      "text/plain": [
       "{'0': 5533, '1': 4467}"
      ]
     },
     "metadata": {},
     "output_type": "display_data"
    },
    {
     "data": {
      "image/png": "[encoded data removed]",
      "text/plain": [
       "<Figure size 700x500 with 1 Axes>"
      ]
     },
     "execution_count": 37,
     "metadata": {},
     "output_type": "execute_result"
    }
   ],
   "source": [
    "# basics of quantum states\n",
    "from qiskit.quantum_info import Statevector # type: ignore\n",
    "from numpy import sqrt # type: ignore\n",
    "from qiskit.visualization import plot_histogram # type: ignore\n",
    "\n",
    "# defining the states\n",
    "u = Statevector([1 / sqrt(2), 1 / sqrt(2)])\n",
    "v = Statevector([(1 + 2.0j) / 3, -2 / 3])\n",
    "w = Statevector([1 / 3, 2 / 3])\n",
    "\n",
    "# displaying the states: values and latex format\n",
    "display(u.draw(\"latex\"))\n",
    "display(v.draw(\"text\"))\n",
    "display(w.draw(\"latex\"))\n",
    "\n",
    "# check validity of the state vectors: i.e., that it has Euclidean norm equal to 1\n",
    "display(u.is_valid())\n",
    "display(w.is_valid())\n",
    "# measuring: simulates a standard basis measurement. It returns the result of that measurement, plus the new quantum state of our system after that measurement.\n",
    "u.measure() # Measurement outcomes are probabilistic, so the same method can return different results. Try running the cell a few times to see this.\n",
    "# the simulation of any number of measurements on the system\n",
    "statistics = v.sample_counts(10000)\n",
    "display(statistics)\n",
    "plot_histogram(statistics)\n"
   ]
  },
  {
   "cell_type": "code",
   "execution_count": 38,
   "metadata": {},
   "outputs": [
    {
     "data": {
      "text/plain": [
       "[ 0.85355339+0.35355339j,-0.35355339+0.14644661j]"
      ]
     },
     "execution_count": 38,
     "metadata": {},
     "output_type": "execute_result"
    }
   ],
   "source": [
    "# basics of operation on the state vectors\n",
    "from qiskit.quantum_info import Operator # type: ignore\n",
    "\n",
    "X = Operator([[0, 1], [1, 0]])\n",
    "Y = Operator([[0, -1.0j], [1.0j, 0]])\n",
    "Z = Operator([[1, 0], [0, -1]])\n",
    "H = Operator([[1 / sqrt(2), 1 / sqrt(2)], [1 / sqrt(2), -1 / sqrt(2)]])\n",
    "S = Operator([[1, 0], [0, 1.0j]])\n",
    "T = Operator([[1, 0], [0, (1 + 1.0j) / sqrt(2)]])\n",
    "# initial state of the qubit\n",
    "v = Statevector([1, 0])\n",
    "# a sequence of the operations\n",
    "v = v.evolve(H)\n",
    "v = v.evolve(T)\n",
    "v = v.evolve(H)\n",
    "v = v.evolve(T)\n",
    "v = v.evolve(Z)\n",
    "# final resul\n",
    "v.draw(\"text\")\n"
   ]
  },
  {
   "cell_type": "code",
   "execution_count": 39,
   "metadata": {},
   "outputs": [
    {
     "data": {
      "text/html": [
       "<pre style=\"word-wrap: normal;white-space: pre;background: #fff0;line-height: 1.1;font-family: &quot;Courier New&quot;,Courier,monospace\">   ┌───┐┌───┐┌───┐┌───┐┌───┐\n",
       "q: ┤ H ├┤ T ├┤ H ├┤ T ├┤ Z ├\n",
       "   └───┘└───┘└───┘└───┘└───┘</pre>"
      ],
      "text/plain": [
       "   ┌───┐┌───┐┌───┐┌───┐┌───┐\n",
       "q: ┤ H ├┤ T ├┤ H ├┤ T ├┤ Z ├\n",
       "   └───┘└───┘└───┘└───┘└───┘"
      ]
     },
     "execution_count": 39,
     "metadata": {},
     "output_type": "execute_result"
    }
   ],
   "source": [
    "# basics quantum circuits\n",
    "from qiskit import QuantumCircuit # type: ignore\n",
    "\n",
    "circuit = QuantumCircuit(1)\n",
    "\n",
    "circuit.h(0)\n",
    "circuit.t(0)\n",
    "circuit.h(0)\n",
    "circuit.t(0)\n",
    "circuit.z(0)\n",
    "\n",
    "circuit.draw()\n",
    "\n"
   ]
  },
  {
   "cell_type": "code",
   "execution_count": 40,
   "metadata": {},
   "outputs": [
    {
     "data": {
      "image/png": "[encoded data removed]",
      "text/plain": [
       "<Figure size 700x500 with 1 Axes>"
      ]
     },
     "execution_count": 40,
     "metadata": {},
     "output_type": "execute_result"
    }
   ],
   "source": [
    "# basics quantum circuits\n",
    "from qiskit import QuantumCircuit # type: ignore\n",
    "\n",
    "circuit = QuantumCircuit(1)\n",
    "\n",
    "circuit.h(0)\n",
    "circuit.t(0)\n",
    "circuit.h(0)\n",
    "circuit.t(0)\n",
    "circuit.z(0)\n",
    "\n",
    "ket0 = Statevector([1, 0])\n",
    "v = ket0.evolve(circuit)\n",
    "statistics = v.sample_counts(4000)\n",
    "#v.draw(\"text\")\n",
    "plot_histogram(statistics)\n",
    "\n"
   ]
  },
  {
   "cell_type": "markdown",
   "metadata": {},
   "source": [
    "## Exercises\n",
    "\n",
    "1. What will be the result of measurement of an invalid state vector? Define an invalid state vector and measure it."
   ]
  }
 ],
 "metadata": {
  "kernelspec": {
   "display_name": "qiskit_venv",
   "language": "python",
   "name": "python3"
  },
  "language_info": {
   "codemirror_mode": {
    "name": "ipython",
    "version": 3
   },
   "file_extension": ".py",
   "mimetype": "text/x-python",
   "name": "python",
   "nbconvert_exporter": "python",
   "pygments_lexer": "ipython3",
   "version": "3.12.3"
  }
 },
 "nbformat": 4,
 "nbformat_minor": 2
}
