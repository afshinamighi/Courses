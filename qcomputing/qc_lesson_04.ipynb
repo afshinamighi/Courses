{
 "cells": [
  {
   "cell_type": "markdown",
   "metadata": {},
   "source": [
    "# From Classical Limits to Quantum Power: Deutsch’s Two-Qubit Solution\n",
    "\n",
    "## Introduction\n",
    "\n",
    "We can define a quantum algorithm as a sequence of quantum operations applied in a particular order to solve problems by harnessing the unique principles of quantum mechanics. Unlike classical algorithms that use bits—restricted to values of either 0 or 1—quantum algorithms use qubits, which can exist in a superposition of both states simultaneously. This allows quantum systems to process multiple possibilities in parallel, offering potential advantages over classical approaches.\n",
    "\n",
    "In this chapter, we will explore one of the simplest examples of a quantum algorithm that highlights how quantum computing can outperform classical methods: the *Deutsch algorithm*. While it doesn’t have direct practical applications, it serves as a foundational example for understanding how quantum features like superposition and interference can be leveraged to solve problems more efficiently. The Deutsch algorithm is often used as an entry point into quantum computing, illustrating the fundamental principles that power more complex quantum algorithms."
   ]
  },
  {
   "cell_type": "markdown",
   "metadata": {},
   "source": [
    "## Deutsch Problem\n",
    "\n",
    "### Problem Statement\n",
    "\n",
    "Deutsch’s problem is one of the simplest examples in quantum computing that highlights how quantum algorithms can outperform classical ones. Though it involves a very basic setup, it introduces key concepts like quantum parallelism and interference, which are foundational to many quantum algorithms.\n",
    "\n",
    "Imagine you have a mysterious function  $f(x)$  that takes a single bit  $x$  as input. Since the input is just one bit, it can be either  $0$  or  $1$ . The function  $f(x)$  produces an output of either  $0$  or  $1$  for each input provided. However, the internal mechanism of the function remains unknown to you. You can only interact with it by querying—that is, by supplying an input and observing the corresponding output.\n",
    "\n",
    "In many contexts, such a function is referred to as an *oracle*. An oracle is essentially a black-box (function or subroutine) that provides specific information about its behavior without disclosing its internal workings. It serves as a tool that the system can query to gain insights or verify certain conditions.\n",
    "For simplicity, we will continue using the term function in this context\n",
    "\n",
    "You are told that the function is either *constant* or *balanced*. A constant function means that it gives the same output for both inputs, i.e. $f(0) = f(1)$. A balanced funtion means that it gives different outputs for the two inputs, i.e. $f(0) \\neq f(1)$.\n",
    "\n",
    "The goal is to *determine whether the function is constant or balanced with the least number of queries*.\n",
    "\n",
    "Using classical computers, to be sure whether the function is constant or balanced, you must check both inputs. You must load $0$ as the input and record $f(0)$ and separately, load $x=1$ and evaluate $f(1)$.\n",
    "Only by seeing both results you can confidently determine if the function is *constant* or *balanced*. Therefore, minimum number of queries required for classical computers is two. \n",
    "Deutsch's algorithm is supposed to outperform classical counterpart. This means that using Desutsch's solution implemented in a quantum circuit, one can determine whethere $f(x)$ is constant or balanced with only **one query**.\n",
    "\n",
    "### Set up\n",
    "\n",
    "Before we start with the solution using quantum algorithms, we briefly explain how to set up an algorithm. \n",
    "At its core, a quantum algorithm follows these basic steps:\n",
    "- **Initialize qubits**: Start with qubits in a known state (usually $\\ket{0}$ for all qubits). If you need $\\ket{1}$ for certain qubits, use $X$ to flip the initial state.\n",
    "- **Create Superposition**: Apply gates such as the Hadamard gate $H$ to place qubits into superposition, allowing the algorithm to explore multiple possibilities simultaneously. Whether this step is applied depends on the specific problem being addressed. In some cases, certain problems may bypass this step entirely.\n",
    "- **Apply Quantum Operations**: Use a sequence of quantum gates (like $X$, $H$, or $C_{10}$) to manipulate the qubits and encode the problem into their states.\n",
    "- **Leverage Quantum Phenomena**: Quantum algorithms exploit principles like interference (where certain paths reinforce or cancel each other) and entanglement (where qubits become correlated) to guide the system toward the correct solution.\n",
    "- **Measure the Qubits**: Finally, measure the qubits to collapse them into classical bits. The outcome reveals the solution or helps in approximating it.\n",
    "\n",
    "\n",
    "### Deutsch Algorithm\n",
    "\n",
    "Now let's start with Deutsch's solution. In this section we will focus on the solution with only two qubits but the solution is extendible easily to a system with mutiple qubits. Moreover, we try to associate the solution to the steps we have proposed above. \n",
    "\n",
    "1. **Initialize qubits**: The algorithm uses two qubits:\n",
    "- qubit 1 ( $\\ket{x}$ ): The input qubit (initially set to  $\\ket{0}$ )\n",
    "- qubit 2 ( $\\ket{y}$ ): An auxiliary qubit (initially set to $\\ket{1}$ ). We will load $y$ with $\\ket{0}$ and then we will apply $X \\ket{y}$.\n",
    "\n",
    "After this step the initial state of the whole system is: $\\ket{x}\\ket{y} = \\ket{0}\\ket{1} = \\ket{01}$\n",
    "\n",
    "2. **Create Superpositions**: Applying a Hadamard gate $H$ to each qubit separately will result in:\n",
    "\n",
    "- $H\\ket{0} = \\frac{1}{\\sqrt 2}(\\ket{0} + \\ket{1})$ , for $\\ket{x}$\n",
    "- $H\\ket{1} = \\frac{1}{\\sqrt 2}(\\ket{0} - \\ket{1})$ , for $\\ket{y}$, after applying $X$.\n",
    "\n",
    "In order to see what is the state of the whole system, we can apply two $H$s to $\\ket{xy}$ which will result in:\n",
    "$\n",
    "HH\\ket{xy} = HH\\ket{01} = (H\\ket{0})(H\\ket{1}) = \\frac{1}{2}(\\ket{00}-\\ket{01}+\\ket{10}-\\ket{11})\n",
    "$\n",
    "\n",
    "The system is now in a superposition of all possible inputs.\n",
    "\n",
    "3. **Apply Quantum Operations**: In our context here, the quantum operation of our interest is the function $f(x)$. Let's assume that the function $f$ on input $\\ket{x}$ is applicable through a unitary transformation (matrix) represented as $U_f$. Applying $U_f$ on our two qubit system will result in:\n",
    "\n",
    "$\n",
    "U_f\\ket{x}\\ket{y} = \\ket{x}\\ket{y \\oplus f(x)}\n",
    "$\n",
    "\n",
    "Remember that in our setup $y$ is the auxiliary qubit to store the output. The qubit $\\ket{y}$ is used to store the result of $f(x)$ in a way that maintains the reversibility required in quantum computing. The state $\\ket{y \\oplus f(x)}$ represents that applying $f(x)$ flips the state of the auxiliary qubit $\\ket{y}$ if and only if $f(x)=1$. \n",
    "\n",
    "Let's apply $U_f$ to our prepared state:\n",
    "\n",
    "$\n",
    "U_f (\\frac{1}{2}(\\ket{00}-\\ket{01}+\\ket{10}-\\ket{11})) = \n",
    "\\frac{1}{2} (U_f \\ket{00} - U_f \\ket{01} + U_f \\ket{10} - U_f \\ket{11}) =\n",
    "\\frac{1}{2} (U_f \\ket{0}\\ket{f(0)} - U_f \\ket{0}\\ket{1 \\oplus f(0)} + U_f \\ket{1}\\ket{f(1)} - U_f \\ket{1}\\ket{1 \\oplus f(1)})\n",
    "$\n",
    "\n",
    "The final result after applying $\\oplus$ will be:\n",
    "\n",
    "$\n",
    "\\frac{1}{2} (\\ket{0}\\ket{f(0)} - \\ket{0}\\ket{\\neg f(0)} + \\ket{1}\\ket{f(1)} - \\ket{1}\\ket{\\neg f(1)})\n",
    "$\n",
    "\n",
    "4. **Leverage Quantum Phenomena**: We need to evaluate and symplify the final state. Let’s look at two possible cases:\n",
    "\n",
    "Case 1: $f(x)$ is constant. This means $f(0)=f(1)$ and $\\neg f(0) = \\neg f(1)$. In this case our state will be:\n",
    "\n",
    "- $f(0)=0 : \\frac{1}{2} (\\ket{0}\\ket{0} - \\ket{0}\\ket{1} + \\ket{1}\\ket{0} - \\ket{1}\\ket{1}) $ This is the superposition of $\\ket{01}$.\n",
    "- $f(0)=1 : \\frac{1}{2} (\\ket{0}\\ket{1} - \\ket{0}\\ket{0} + \\ket{1}\\ket{1} - \\ket{1}\\ket{0}) $ This is the superposition of $-\\ket{01}$.\n",
    " \n",
    "Case 2: $f(x)$ is balanced. This means $f(0) \\neq f(1)$ or $f(0) = \\neg f(1)$, $f(1) = \\neg f(0)$. In this case our state will be:\n",
    "\n",
    "- $f(0)=0 : \\frac{1}{2} (\\ket{0}\\ket{0} - \\ket{0}\\ket{1} + \\ket{1}\\ket{1} - \\ket{1}\\ket{0}) $ This is the superposition of $\\ket{11}$.\n",
    "- $f(0)=1 : \\frac{1}{2} (\\ket{0}\\ket{1} - \\ket{0}\\ket{0} + \\ket{1}\\ket{0} - \\ket{1}\\ket{1}) $ This is the superposition of $-\\ket{11}$.\n",
    "\n",
    "The evaluation is revealing something interesting. When the function $f(x)$ is constant the whole system is in a superposition that can be factored based on two qubits $\\ket{01}$. Similarly when $f(x)$ is balanced the whole system is in a superposition that can be writen as $\\ket{11}$. This means that the value of $\\ket{x}$ can reveal some information about $f(x)$. We can apply another $H$ to each qubit to evaluate the final value. We apply another two $H$'s to prepare the qubits for measurements.\n",
    "\n",
    "Case 1: $f(x)$ is constant.\n",
    "\n",
    "- $f(0)=0 : HH(\\frac{1}{2} (\\ket{0}\\ket{0} - \\ket{0}\\ket{1} + \\ket{1}\\ket{0} - \\ket{1}\\ket{1})) = \\ket{01}$\n",
    "- $f(0)=1 : HH(\\frac{1}{2} (\\ket{0}\\ket{1} - \\ket{0}\\ket{0} + \\ket{1}\\ket{1} - \\ket{1}\\ket{0})) = -\\ket{01}$.\n",
    " \n",
    "Case 2: $f(x)$ is balanced. This means $f(0) \\neq f(1)$ or $f(0) = \\neg f(1)$, $f(1) = \\neg f(0)$. In this case our state will be:\n",
    "\n",
    "- $f(0)=0 : HH(\\frac{1}{2} (\\ket{0}\\ket{0} - \\ket{0}\\ket{1} + \\ket{1}\\ket{1} - \\ket{1}\\ket{0})) = \\ket{11} $.\n",
    "- $f(0)=1 : HH(\\frac{1}{2} (\\ket{0}\\ket{1} - \\ket{0}\\ket{0} + \\ket{1}\\ket{0} - \\ket{1}\\ket{1})) = -\\ket{11} $.\n",
    "\n",
    "5. **Measure the Qubits**: In this step, the values of $ \\ket{x} $ and $ \\ket{y} $ can be measured. In the Deutsch problem, the negative signs in terms like $ -\\ket{01} $ and $ -\\ket{11} $ can be disregarded, as they have no effect on the measurement outcomes. Additionally, $ \\ket{y} $ consistently collapses to $ \\ket{1} $ in all cases, providing no useful information for determining the nature of $ f(x) $. Therefore, the focus shifts solely to the value of $ \\ket{x} $, which reveals whether $ f(x) $ is constant or balanced.\n",
    "\n",
    "#### The algorithm\n",
    "\n",
    "What we have described in dtail so far about Deutsch algorithm, can be summarzied and rewritten as:\n",
    "\n",
    "$\n",
    "HH(U_f(HH(\\ket{x}(X\\ket{y}))))\n",
    "$ , given both qubits are initialized with $\\ket{0}$"
   ]
  },
  {
   "cell_type": "markdown",
   "metadata": {},
   "source": [
    "## Program\n",
    "\n",
    "In this section we will implement the Deutsch algorithm in qiskit. First, we will implement the solution studied above with only two qubits. Later a complete code with multiple qubits will be provided. \n",
    "Before, implementing the full algorithm, we need to practice how to implement the oracle (or the function $f(x)$). There are four possible functions that can be used to implement the oracle:\n",
    "\n",
    "$f(0)$ | $f(1)$ | type\n",
    "----|---- | ---\n",
    "$0$ | $0$ | constant\n",
    "$0$ | $1$ | balanced\n",
    "$1$ | $0$ | balanced\n",
    "$1$ | $1$ | constant\n",
    "\n",
    "The functions implemented below provides four possible circuits:"
   ]
  },
  {
   "cell_type": "code",
   "execution_count": 45,
   "metadata": {},
   "outputs": [
    {
     "name": "stdout",
     "output_type": "stream",
     "text": [
      "oracle_00\n",
      "      ░  ░ \n",
      "q_0: ─░──░─\n",
      "      ░  ░ \n",
      "q_1: ─░──░─\n",
      "      ░  ░ \n",
      "---------------------------\n",
      "oracle_01\n",
      "      ░       ░ \n",
      "q_0: ─░───■───░─\n",
      "      ░ ┌─┴─┐ ░ \n",
      "q_1: ─░─┤ X ├─░─\n",
      "      ░ └───┘ ░ \n",
      "---------------------------\n",
      "oracle_10\n",
      "      ░            ░ \n",
      "q_0: ─░────────■───░─\n",
      "      ░ ┌───┐┌─┴─┐ ░ \n",
      "q_1: ─░─┤ X ├┤ X ├─░─\n",
      "      ░ └───┘└───┘ ░ \n",
      "---------------------------\n",
      "oracle_11\n",
      "      ░       ░ \n",
      "q_0: ─░───────░─\n",
      "      ░ ┌───┐ ░ \n",
      "q_1: ─░─┤ X ├─░─\n",
      "      ░ └───┘ ░ \n",
      "---------------------------\n"
     ]
    }
   ],
   "source": [
    "from qiskit import QuantumCircuit\n",
    "\n",
    "def oracle_00(circuit):     #implements function f(0)=0 and f(1)=0\n",
    "    return\n",
    "\n",
    "def oracle_01(circuit):     #implements function f(0)=0 and f(1)=1\n",
    "    circuit.cx(0,1)\n",
    "    return\n",
    "\n",
    "def oracle_10(circuit):     #implements function f(0)=1 and f(1)=0\n",
    "    circuit.x(1)\n",
    "    circuit.cx(0,1)\n",
    "    return\n",
    "\n",
    "def oracle_11(circuit):     #implements function f(0)=1 and f(1)=1\n",
    "    circuit.x(1)\n",
    "    return\n",
    "\n",
    "oracles = [oracle_00 , oracle_01 , oracle_10 , oracle_11]\n",
    "\n",
    "for orc in oracles:\n",
    "    qc = QuantumCircuit(2,0) # Initialize qubits: 2 qubits and 2 classical bits\n",
    "    qc.barrier() # Start of the Oracle: The barrier only separates the start / end of the oracle (subroutine) from the rest of the algorithm\n",
    "    orc(qc)\n",
    "    qc.barrier() # End of the Oracle: The barrier only separates the start / end of the oracle (subroutine) from the rest of the algorithm\n",
    "    print(orc.__name__)\n",
    "    print(qc)\n",
    "    print('---------------------------')"
   ]
  },
  {
   "cell_type": "code",
   "execution_count": 40,
   "metadata": {},
   "outputs": [],
   "source": [
    "from qiskit import transpile\n",
    "from qiskit_aer import AerSimulator\n",
    "\n",
    "def Deutsch_Circuit(deutch_qc, oracle):\n",
    "    deutch_qc.x(1) # The auxiliary bit (y) must be set to 1.\n",
    "    deutch_qc.h(0) # input in superposition\n",
    "    deutch_qc.h(1) # auxiliary in superposition\n",
    "    deutch_qc.barrier()\n",
    "    oracle(deutch_qc) # query oracle\n",
    "    deutch_qc.barrier()\n",
    "    deutch_qc.h(0) # transform input into basis state\n",
    "    deutch_qc.h(1) # transform auxiliary into basis state\n",
    "    deutch_qc.measure(0, 0)  # Measure qubit 0 and store in classical bit 0\n",
    "    deutch_qc.measure(1, 1)  # Measure qubit 1 and store in classical bit 1\n",
    "\n",
    "\n",
    "def Deutch_Run(circuit):\n",
    "    simulator = AerSimulator()\n",
    "    compiled_circuit = transpile(circuit, simulator)\n",
    "    result = simulator.run(compiled_circuit, shots=1024).result()\n",
    "    return result"
   ]
  },
  {
   "cell_type": "code",
   "execution_count": 49,
   "metadata": {},
   "outputs": [
    {
     "name": "stdout",
     "output_type": "stream",
     "text": [
      "Measurement results: {'10': 1024}\n"
     ]
    },
    {
     "data": {
      "image/png": "[encoded data removed]",
      "text/plain": [
       "<Figure size 788.961x284.278 with 1 Axes>"
      ]
     },
     "execution_count": 49,
     "metadata": {},
     "output_type": "execute_result"
    }
   ],
   "source": [
    "# Experiment 1: Constant function\n",
    "\n",
    "qc = QuantumCircuit(2,2)\n",
    "Deutsch_Circuit(qc,oracle_11)\n",
    "result = Deutch_Run(qc)\n",
    "\n",
    "# Get the counts (frequency of measurement outcomes)\n",
    "counts = result.get_counts()\n",
    "# Print the measurement results\n",
    "print(\"Measurement results:\", counts)\n",
    "qc.draw(\"mpl\")  "
   ]
  },
  {
   "cell_type": "code",
   "execution_count": 44,
   "metadata": {},
   "outputs": [
    {
     "name": "stdout",
     "output_type": "stream",
     "text": [
      "Measurement results: {'11': 1024}\n"
     ]
    },
    {
     "data": {
      "image/png": "[encoded data removed]",
      "text/plain": [
       "<Figure size 872.572x284.278 with 1 Axes>"
      ]
     },
     "execution_count": 44,
     "metadata": {},
     "output_type": "execute_result"
    }
   ],
   "source": [
    "# Experiment 2: Balanced function\n",
    "\n",
    "qc = QuantumCircuit(2,2)\n",
    "Deutsch_Circuit(qc,oracle_10)\n",
    "result = Deutch_Run(qc)\n",
    "\n",
    "# Get the counts (frequency of measurement outcomes)\n",
    "counts = result.get_counts()\n",
    "# Print the measurement results\n",
    "print(\"Measurement results:\", counts)\n",
    "qc.draw(\"mpl\") "
   ]
  },
  {
   "cell_type": "markdown",
   "metadata": {},
   "source": [
    "### [In progress]\n",
    "\n",
    "The rest is not complete yet. Under development...\n",
    "\n",
    "The following sections will cover :\n",
    "- general case for the algorithm\n",
    "- concepts like quantum parallelism\n"
   ]
  },
  {
   "cell_type": "code",
   "execution_count": 1,
   "metadata": {},
   "outputs": [
    {
     "name": "stdout",
     "output_type": "stream",
     "text": [
      "oracle number: Balanced 2 0b10\n",
      "Prediction:\n",
      "Balanced\n"
     ]
    },
    {
     "data": {
      "image/png": "[encoded data removed]",
      "text/plain": [
       "<Figure size 1207.22x451.5 with 1 Axes>"
      ]
     },
     "execution_count": 1,
     "metadata": {},
     "output_type": "execute_result"
    }
   ],
   "source": [
    "import qiskit\n",
    "import matplotlib as mpl\n",
    "from random import choice, randint\n",
    "\n",
    "class QCDeutschJozsaOracle:\n",
    "    def __init__(self) -> None:\n",
    "        self.register_inp_size = 3 # the size of input, we assume the input is a number with 3-bits\n",
    "        self.register_out_size = 1 # the size of the auxiliary (output) qbit\n",
    "        self.register_size = self.register_inp_size + self.register_out_size\n",
    "        self.dj_circuit = None\n",
    "\n",
    "    def dj_oracle(self,n)->str:     #begin our function\n",
    "        type = 'Balanced' #choice(['Constant0','Constant1','Balanced'])\n",
    "        if type == 'Balanced':\n",
    "            oracle_num = randint(0,(2**n)-1)    #random binary num between\n",
    "            print('oracle number:',type, oracle_num , str(bin(oracle_num)))\n",
    "        elif type == 'Constant0':\n",
    "                print('todo: constant0')\n",
    "        elif type == 'Constant1':\n",
    "                print('todo:contant1')\n",
    "        oracle_num_bin = format(oracle_num , '0'+str(n)+'b')\n",
    "        for reg in range(0,len(oracle_num_bin)):   #iterate through flipGates\n",
    "            if oracle_num_bin[reg] == '1':\n",
    "                self.dj_circuit.x(reg)     #flip qubit if necessary\n",
    "        for reg in range(0,n):    #CX Gate controlled on every query qubit\n",
    "            self.dj_circuit.cx(reg,n)   #and targeting auxiliary qubit\n",
    "        for reg in range(0,len(oracle_num_bin)):   #unflip qubits so output\n",
    "            if oracle_num_bin[reg] == '1':         #reveals nothing except\n",
    "                self.dj_circuit.x(reg)                #what the original input was\n",
    "\n",
    "        return type    \n",
    "\n",
    "    def simulate(self)->None:\n",
    "        from qiskit_aer import AerSimulator\n",
    "\n",
    "        simulator = AerSimulator()\n",
    "        job = simulator.run(self.dj_circuit,shots=1,memory=True)\n",
    "        result = job.result()\n",
    "        measurements = result.get_memory()[0]   #e.g '0000'\n",
    "        query_state = measurements[-1] #gets the last element in the array\n",
    "        print('Prediction:')\n",
    "        if query_state == '1':\n",
    "            print('Balanced')\n",
    "        else:    #Constant Query\n",
    "            print('Constant')\n",
    "     \n",
    "\n",
    "    def construct_circuit(self)->None:\n",
    "        self.dj_circuit = qiskit.QuantumCircuit(self.register_size,self.register_size) # create Deutsch-Jozsa circuit\n",
    "\n",
    "        for line in range(0,self.register_inp_size):\n",
    "            self.dj_circuit.h(line)\n",
    "        self.dj_circuit.x(self.register_inp_size)    #flip Auxiliary\n",
    "        self.dj_circuit.h(self.register_inp_size)    #put into |-> state\n",
    "\n",
    "        self.dj_circuit.barrier()\n",
    "        oracle_type = self.dj_oracle(3)\n",
    "        self.dj_circuit.barrier()\n",
    "\n",
    "        #after Oracle function\n",
    "        for line in range(0,self.register_size):\n",
    "            self.dj_circuit.h(line)    #apply Hadamard to each qubit\n",
    "            self.dj_circuit.measure(line,line)    #measure qubit onto respective bit\n",
    "        \n",
    "    def run_oracle(self):\n",
    "        self.construct_circuit()\n",
    "        self.simulate() # error\n",
    "        \n",
    "\n",
    "oracle = QCDeutschJozsaOracle()\n",
    "oracle.run_oracle()\n",
    "oracle.dj_circuit.draw('mpl')\n"
   ]
  },
  {
   "cell_type": "markdown",
   "metadata": {},
   "source": [
    "## Summary\n",
    "\n",
    "[todo]"
   ]
  }
 ],
 "metadata": {
  "kernelspec": {
   "display_name": "Python 3 (ipykernel)",
   "language": "python",
   "name": "python3"
  },
  "language_info": {
   "codemirror_mode": {
    "name": "ipython",
    "version": 3
   },
   "file_extension": ".py",
   "mimetype": "text/x-python",
   "name": "python",
   "nbconvert_exporter": "python",
   "pygments_lexer": "ipython3",
   "version": "3.13.2"
  }
 },
 "nbformat": 4,
 "nbformat_minor": 4
}
