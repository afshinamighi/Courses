{
 "cells": [
  {
   "cell_type": "markdown",
   "metadata": {},
   "source": [
    "\n",
    "# Quantum bit\n",
    "\n",
    "## Introduction\n",
    "\n",
    "In this tutorial, we will explore the basics of one-bit quantum computing, focusing on how a single quantum bit—or qubit—can be represented, manipulated, and measured. Unlike a classical bit, which is always in a definite state of either 0 or 1, a qubit can exist in a superposition of these two states, offering a richer mathematical structure for computation. We will approach the concept using simple mathematical abstractions, relying only on real numbers to represent qubit states, and build on familiar ideas from classical bits and probabilistic states. Our goal is to introduce the foundational elements of quantum operations and state transitions in a clear, accessible way, postponing more advanced concepts like complex vector spaces for later. By the end, you will have a basic understanding of how one-bit quantum systems behave and how they differ from their classical counterparts.\n",
    "\n",
    "\n",
    "## QBit: Definition and Measurement\n",
    "\n",
    "Quantum information extends classical information primarily through the expansion of classical information. \n",
    "A quantum bit (qbit) is the basic unit of quantum information, mathematically represented as a vector in a two-dimensional Hilbert space. Unlike a classical bit, which can only take values 0 or 1, a qbit can exist in a superposition of both states. A superposition represents a combination of multiple quantum states that coexist until a *measurement* is made. Mathematically, it’s a linear combination of basis states with complex probability amplitudes. The state of a qbit is typically represented using Dirac notation as:\n",
    "\n",
    "$\n",
    "\\Ket{\\psi} = \\alpha \\Ket{0} + \\beta \\Ket{1}\n",
    "$\n",
    "\n",
    "Here:\n",
    "\n",
    "- $\\Ket{0}$  and  $\\Ket{1}$  are the basis states (analogous to the 0 and 1 of a classical bit).\n",
    "- $\\alpha$  and  $\\beta$  are complex numbers representing probability amplitudes.\n",
    "- $|\\alpha|^2$  and  $|\\beta|^2$  are the probabilities of the qbit being in state  $\\Ket{0}$  or  $\\Ket{1}$ , respectively, with the condition that:\n",
    "$|\\alpha|^2 + |\\beta|^2 = 1$ This ensures that the total probability of the qbit being in either state is 1.\n",
    "\n",
    "For the moment consider $\\alpha$ and $\\beta$ as real numbers. \n",
    "\n",
    "Measurement is one of the most fundamental ways of interacting with a quantum state and plays a crucial role in quantum mechanics. It can be defined as the process of extracting classical information from a quantum state, causing the quantum state to collapse into one of its possible basis states. Unlike a classical system, where the state of the system can be directly observed, a quantum state is not directly accessible or visible in the same way.\n",
    "\n",
    "Just as we cannot observe a probabilistic state directly but instead infer information from outcomes, we cannot directly observe a quantum state. Instead, we must perform a measurement, which transforms the abstract quantum information into a definite classical outcome. The measurement process, however, fundamentally alters the quantum state, collapsing it into one of the one of the basis states.\n",
    "\n",
    "In quantum mechanics, measurement is probabilistic in nature, meaning that the result of a measurement is not deterministic but rather described by probability amplitudes. The probability of obtaining a particular result is determined by the squared magnitude of the amplitude associated with that outcome. This probabilistic behavior is intrinsic to quantum systems and is not a result of experimental limitations.\n",
    "\n",
    "Furthermore, measurement in quantum mechanics depends on the choice of the measurement basis. For example, measuring a qubit in the computational basis ( $\\Ket{0}$  or  $\\Ket{1}$ ) will yield different outcomes compared to measuring it in a different basis (e.g. the Hadamard basis). This makes measurement a much richer and more complex process than simply reading off a value from a classical system.\n",
    "\n",
    "Example:\n",
    "\n",
    "A qbit in the state  $\\frac{1}{\\sqrt{2}}\\Ket{0} + \\frac{1}{\\sqrt{2}}\\Ket{1}$  is in an equal superposition of 0 and 1. When measured, there is a 50% chance of observing it as 0 and a 50% chance of observing it as 1.\n",
    "\n",
    "We have to note here that a superposition of a quantum state cannot be expressed as a purely probabilistic state. Although both concepts involve uncertainty, they are fundamentally different in nature. A probabilistic state refers to a situation where a system has a known probability of being in one of several distinct classical states. For example, a coin toss can be in state heads with 50% probability and tails with 50% probability. A quantum superposition state is not simply a probabilistic mixture of states. While the measurement outcomes can be described using classical probabilities, the underlying quantum state itself contains much richer information which have no equivalent in probabilistic states. (todo: add a link to a video where the concept can be examplied using physical features)\n",
    "\n",
    "## Operation\n",
    "\n",
    "Similar to our discussion on probabilistic states, we need a formal structure to define operations that transform a qubit from an initial state to a new state. Since qubits are represented using Dirac notation (vectors), we can represent these operations as matrices. Let’s begin with the standard basis states $\\ket{0}$ and $\\ket{1}$.\n",
    "\n",
    "Following our knowledge and experience from classical bits, we can propose four possible operations on a single qubit: Identity, Not (Flip), Reset (Erase or Set to Zero), Set (Set to One).\n",
    "\n",
    "A crucial requirement for qubit operations is reversibility. A reversible operation ensures that applying the operation twice restores the qubit to its initial state. For instance, the Reset operation is not reversible. If this operation is applied to $\\ket{1}$, the resulting state will be $\\ket{0}$. Applying the same operation again to $\\ket{0}$ does not bring the qubit back to its original state $\\ket{1}$.\n",
    "\n",
    "In contrast, the Not operation is reversible: applying it twice returns the qubit to its initial state. Similarly, the Identity operation is also reversible, as it leaves the qubit unchanged.\n",
    "\n",
    "Below, we provide a formal definition of these two reversible operations:\n",
    "\n",
    "### Not (Flip)\n",
    "\n",
    "In quantum computing, the Not operation is commonly represented by the symbol $X$. This operation is defined by the matrix:\n",
    "\n",
    "$\n",
    "X = \\begin{bmatrix} 0 & 1 \\\\ 1 & 0 \\end{bmatrix}.\n",
    "$\n",
    "\n",
    "The application of $X$ on a general qubit state $\\ket{\\psi}$ can be shown as follows:\n",
    "\n",
    "$\n",
    "X \\ket{\\psi} = X (\\alpha \\ket{0} + \\beta \\ket{1}) = \\alpha (X \\ket{0}) + \\beta (X \\ket{1}) = \\alpha \\ket{1} + \\beta \\ket{0} = \\beta \\ket{1} + \\alpha \\ket{0}.\n",
    "$\n",
    "\n",
    "This operation effectively swaps the amplitudes of the basis states $\\ket{0}$ and $\\ket{1}$. What does this mean in practice? If we take a qubit and we try to measure it, it will colapse to $\\ket{0}$ with the probability of $\\alpha^2$. Now after applying $X$, if we measure the resulting state, it will colapse to $\\ket{0}$ with the probability of $\\beta^2$.\n",
    "\n",
    "**Exercise:** \n",
    "Use the vector representations of the basis states and the matrix representation of $X$ to prove that applying $X$ to a given qubit state switches the amplitudes of the basis states.\n",
    "\n",
    "**Exercise:** The Identity operation does not change the state of the given qubit. It is also a reversible operation. Define a matrix for $I$. Using your defined matrix check if it keeps the state of $\\ket{\\psi}=\\alpha \\ket{0} + \\beta \\ket{1}$.\n",
    "\n",
    "\n"
   ]
  },
  {
   "cell_type": "markdown",
   "metadata": {},
   "source": [
    "## Qu Programming: First Step\n",
    "\n",
    "Programmers often begin coding as soon as they grasp the basics. Now that we have established a sufficient understanding of a single qubit and one possible operation, it’s time to take our first practical step. Here, we introduce Qiskit—not with the aim of mastering the framework but as a tool to help us see how quantum algorithms can be implemented in practice.\n",
    "\n",
    "Qiskit is an open-source quantum computing framework developed by IBM. It provides a comprehensive set of tools for programming and executing quantum algorithms on both real quantum hardware (IBM Quantum computers) and simulators. Written in Python, Qiskit has become one of the most popular frameworks for quantum programming. Its modular structure makes it accessible and flexible, catering to both researchers and beginners in quantum computing.\n",
    "\n",
    "In the following sections, we will gradually introduce Qiskit with minimal code to practice basic quantum algorithms. Before diving into coding, it is important to highlight that, besides the mathematical representation of quantum bits and operations, quantum circuits are a common and intuitive way to represent quantum algorithms.\n",
    "\n",
    "We will use Qiskit libraries to both implement the algorithms and visualize the corresponding quantum circuits."
   ]
  },
  {
   "cell_type": "markdown",
   "metadata": {},
   "source": [
    "### Qiskit: One qubit Circuit\n",
    "\n",
    "As our first example, we will construct a quantum circuit with a single qubit and use Qiskit to draw the circuit. In the second example, we will apply a NOT operation to the circuit. To understand how the circuit is executed, we will use Qiskit’s simulator to run the code and demonstrate how to measure and interpret the result."
   ]
  },
  {
   "cell_type": "code",
   "execution_count": 34,
   "metadata": {
    "scrolled": true
   },
   "outputs": [
    {
     "data": {
      "image/png": "[encoded data removed]",
      "text/plain": [
       "<Figure size 143.647x117.056 with 1 Axes>"
      ]
     },
     "metadata": {},
     "output_type": "display_data"
    }
   ],
   "source": [
    "from qiskit import QuantumCircuit\n",
    " \n",
    "# Step 1: Create a quantum circuit with 1 qubit\n",
    "qc = QuantumCircuit(1)\n",
    " \n",
    "# Remove the \"mpl\" argument to get a text drawing.\n",
    "qc.draw(\"mpl\");"
   ]
  },
  {
   "cell_type": "code",
   "execution_count": 35,
   "metadata": {},
   "outputs": [
    {
     "data": {
      "image/png": "[encoded data removed]",
      "text/plain": [
       "<Figure size 269.064x200.667 with 1 Axes>"
      ]
     },
     "metadata": {},
     "output_type": "display_data"
    }
   ],
   "source": [
    "from qiskit import QuantumCircuit\n",
    " \n",
    "# Step 1: Create a quantum circuit with 1 qubit and 1 classical bit (we need classical bit to store the result of the measurment)\n",
    "qc = QuantumCircuit(1,1)\n",
    "# Step 2: Apply the NOT operation (Pauli-X gate) on the qubit\n",
    "qc.x(0) \n",
    "# Step 3: Measure the qubit (first argument) and store the result in the classical bit () \n",
    "qc.measure(0,0)\n",
    "# Remove the \"mpl\" argument to get a text drawing.\n",
    "qc.draw(\"mpl\");\n"
   ]
  },
  {
   "cell_type": "code",
   "execution_count": 29,
   "metadata": {},
   "outputs": [
    {
     "name": "stdout",
     "output_type": "stream",
     "text": [
      "Measurement results: {'1': 1024}\n"
     ]
    },
    {
     "data": {
      "image/png": "[encoded data removed]",
      "text/plain": [
       "<Figure size 640x480 with 1 Axes>"
      ]
     },
     "metadata": {},
     "output_type": "display_data"
    }
   ],
   "source": [
    "%matplotlib inline\n",
    "from qiskit import QuantumCircuit, transpile\n",
    "from qiskit_aer import AerSimulator\n",
    "from qiskit.visualization import plot_histogram\n",
    "import matplotlib.pyplot as plt\n",
    "\n",
    "# Step 1: Create a quantum circuit with 1 qubit and 1 classical bit\n",
    "qc = QuantumCircuit(1, 1)\n",
    "\n",
    "# Step 2: Apply the NOT operation (Pauli-X gate) on the qubit\n",
    "qc.x(0)\n",
    "\n",
    "# Step 3: Measure qubit 0 into classical bit 0\n",
    "qc.measure(0, 0)  \n",
    "\n",
    "# Step 4: Use AerSimulator and transpile the circuit for the simulator\n",
    "simulator = AerSimulator()\n",
    "compiled_circuit = transpile(qc, simulator)\n",
    "\n",
    "# Step 5: Run the transpiled circuit on the AerSimulator\n",
    "# Note: shots refers to the number of times the quantum circuit is executed (repeated runs).\n",
    "# 1024 means the circuit will be executed 1,024 times, and the results will be recorded for each run.\n",
    "# This is necessary because quantum measurements are probabilistic. \n",
    "# Running the circuit multiple times allows you to gather statistical data on the measurement outcomes.\n",
    "# The statistical data will be depicted later in a histogram\n",
    "result = simulator.run(compiled_circuit, shots=1024).result()\n",
    "\n",
    "# Step 6: Get the measurement result counts\n",
    "# Note: Ensure you have a measurement added to the circuit. Without a measurement, you won’t get counts.\n",
    "counts = result.get_counts()\n",
    "print(\"Measurement results:\", counts)\n",
    "\n",
    "# Step 7: Plot the results\n",
    "plot_histogram(counts)\n",
    "plt.show()"
   ]
  },
  {
   "cell_type": "markdown",
   "metadata": {},
   "source": [
    "# [In Progress]\n",
    "\n",
    "Some basic notes:\n",
    "- using bra as a tool to build the transformation matrix (check lesson 01 , ibm series, min 28)\n",
    "- How can we keep the input bit and introduce the output bit.\n",
    "- Composing operations. $M_2 (M_1 v) = (M_2M_1)v$\n",
    "- what kind of operations are allowed in quantum computing? Reversible and unitary. Give definitions. Maybe better to postpone complex topics for the end. At the beginning keep it simple and start the circuits and algorithms as soon as possible.\n",
    "(there is an interesting equivalent for unitary definition of an operation: $||Uv||=||v||$, operation must not change the Euclidean norm of a state (vector))\n",
    "- From classical xor to cNot (use ideas from slides)\n",
    "\n",
    "- Computational Model: A model that can decribe possible computations. A state machine is a simple model can be used to model $\\neg 1 = 0$ and $\\neg 0 = 1$: current state, operation, next state.\n",
    "- Reversible computing: If we know the operation and the output, it must be possible to find out the input, i.e. apply the reverse of the operaion on the output. \n",
    "- Tensor product with an example. Multiple classical bits can be represented by the tensor products of their bits. The result is called product state. Exercise: Having a product state, how can we factor the bits?\n",
    "- CNOT Operation: to be alaborated. Model the transformation in two classical bits. Exercise: Apply CNot on 00, 10, 11, using details of the mathematical steps.\n",
    "- Multiple qbits: tensor product of multiple single qbit. How one can interpret multiple qbits? For example, a 4*1 vector, all values 1/2.\n",
    "- Hadamard gate: takes 0 or 1 and transforms to a superposition. Model its tranformation, elaborate on the vectors.\n",
    "- Addition is one of those math operations that quantum computers are behaving as classical computers. So there is no gain here. Todo: write down the operations and transformations needed for addition.\n"
   ]
  }
 ],
 "metadata": {
  "kernelspec": {
   "display_name": "Python 3 (ipykernel)",
   "language": "python",
   "name": "python3"
  },
  "language_info": {
   "codemirror_mode": {
    "name": "ipython",
    "version": 3
   },
   "file_extension": ".py",
   "mimetype": "text/x-python",
   "name": "python",
   "nbconvert_exporter": "python",
   "pygments_lexer": "ipython3",
   "version": "3.13.2"
  }
 },
 "nbformat": 4,
 "nbformat_minor": 4
}
