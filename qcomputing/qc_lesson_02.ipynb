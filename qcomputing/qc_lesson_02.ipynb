{
 "cells": [
  {
   "cell_type": "markdown",
   "metadata": {},
   "source": [
    "# [In Progress]\n",
    "\n",
    "# Quantum bit\n",
    "\n",
    "## Introduction\n",
    "\n",
    "[todo: finish]\n",
    "\n",
    "noted to clarify in this section: \n",
    "- we are not discussing the physics and hardware of quantum bits. we abstract details of the physical features and try to learn it using mathematical structures.\n",
    "\n",
    "todo:\n",
    "\n",
    "- definition of a qbit mathematically, using dirac and conditions.\n",
    "- definition of basis states of a qbit and superposition.\n",
    "- definition of one bit operations: main condition they must be reversible. Examples; Not and identity and Reset.\n",
    "- How can we keep the input bit and introduce the output bit.\n",
    "- Circuits in qcomputing\n",
    "- Two bits: tensor product\n",
    "- Operations for two bits\n",
    "- From classical xor to cNot (use ideas from slides)\n",
    "- Basics in qiskit\n",
    "\n",
    "#### QBit\n",
    "\n",
    "Quantum information extends classical information primarily through the expansion of cbits. In qbit, the state zero is no longer the number 0 but a column vector: $ \\begin{bmatrix} 1 \\\\ 0 \\end{bmatrix} $. Similarly, the state one in qbit is a column vector with the value of the second item (item with index 1) as 1, i.e., $ \\begin{bmatrix} 0 \\\\ 1 \\end{bmatrix} $.\n",
    "\n",
    "Let's assume the initial state of a qbit is $ \\begin{bmatrix} 0 \\\\ 1 \\end{bmatrix} $. Applying a NOT must transform the state of the qbit into $ \\begin{bmatrix} 1 \\\\ 0 \\end{bmatrix} $. Let's shape a truth table for the negation on a qbit:\n",
    "\n",
    "input|output\n",
    "--|--\n",
    "$\\begin{bmatrix} 1 \\\\ 0 \\end{bmatrix}$ | $\\begin{bmatrix} 0 \\\\ 1 \\end{bmatrix}$\n",
    "$\\begin{bmatrix} 0 \\\\ 1 \\end{bmatrix}$ | $\\begin{bmatrix} 1 \\\\ 0 \\end{bmatrix}$\n",
    "\n",
    "To express the negation mathematically, we need to find a transformation that, given a state, yields the negated state. It is common to express the negation of a qbit using $X$. Therefore, we have:\n",
    "\n",
    "$X \\begin{bmatrix} 1 \\\\ 0 \\end{bmatrix} = \\begin{bmatrix} 0 \\\\ 1 \\end{bmatrix}$ and $X \\begin{bmatrix} 0 \\\\ 1 \\end{bmatrix} = \\begin{bmatrix} 1 \\\\ 0 \\end{bmatrix}$\n",
    "\n",
    "Refreshing our linear algebra skills, $X$ can be defined as a matrix $X=\\begin{bmatrix} 0 & 1 \\\\ 1 & 0 \\end{bmatrix}$."
   ]
  },
  {
   "cell_type": "markdown",
   "metadata": {},
   "source": [
    "Some basic notes:\n",
    "\n",
    "- Computational Model: A model that can decribe possible computations. A state machine is a simple model can be used to model $\\neg 1 = 0$ and $\\neg 0 = 1$: current state, operation, next state.\n",
    "- We need a different langiage, language of linear algebra. Basics of linear algebra.\n",
    "- Basic operations on one classical bit: I,NOT,Set 0, Set 1. Models in state machines and vectors.\n",
    "- Reversible computing: If we know the operation and the output, it must be possible to find out the input, i.e. apply the reverse of the operaion on the output. \n",
    "- Quantum computing uses only reversible operations. Moreover, it uses operations that are their own reverse, i.e. apply them twice on the output, you get the input.\n",
    "- Tensor product with an example. Multiple classical bits can be represented by the tensor products of their bits. The result is called product state. Exercise: Having a product state, how can we factor the bits?\n",
    "- CNOT Operation: to be alaborated. Model the transformation in two classical bits. Exercise: Apply CNot on 00, 10, 11, using details of the mathematical steps.\n",
    "- qbits are vectors (a,b) such that ||a||^2+||b||^2=1.\n",
    "- Multiple qbits: tensor product of multiple single qbit. How one can interpret multiple qbits? For example, a 4*1 vector, all values 1/2.\n",
    "- NOT on a qbit: Inverse the probabolity of collapsing into 0 and 1.\n",
    "- Hadamard gate: takes 0 or 1 and transforms to a superposition. Model its tranformation, elaborate on the vectors.\n",
    "- Addition is one of those math operations that quantum computers are behaving as classical computers. So there is no gain here. Todo: write down the operations and transformations needed for addition.\n"
   ]
  }
 ],
 "metadata": {
  "language_info": {
   "name": "python"
  }
 },
 "nbformat": 4,
 "nbformat_minor": 2
}
