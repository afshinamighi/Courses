{
 "cells": [
  {
   "cell_type": "markdown",
   "metadata": {},
   "source": [
    "*Life is complex - it has both real and imaginary parts.*\n",
    "- Anonymous\n",
    "\n",
    "# Linear Algebra for QC: Summary\n",
    "\n",
    "In this collection, a summary of the main concepts and definitions are provided to support the background that is necessary for learning Quantum Computing. \n",
    "\n",
    "**Reference:** *Michael A. Nielsen, Isaac L. Chuang*; [\"Quantum Computation and Quantum Information\"](https://www.cambridge.org/highereducation/books/quantum-computation-and-quantum-information/01E10196D0A682A6AEFFEA52D53BE9AE#overview)"
   ]
  },
  {
   "cell_type": "markdown",
   "metadata": {},
   "source": [
    "**Vector Space:** The space of all n-tuples of complex numbers like $(z_1,\\cdots, z_n)$ is a vector space denoted as $\\mathbb{C}^n$. Each element (each n-tuple) is a vector and sometimes represented as a column matrix notation\n",
    "\n",
    "\\begin{bmatrix}\n",
    "z_1 \\\\ z_2 \\\\ . \\\\ . \\\\ . \\\\ z_n\n",
    "\\end{bmatrix}\n",
    "\n",
    "- $\\mathbb{C}^n$ is closed under addition and scalar multiplication.\n",
    "- Physisits studying quantum mechanics are using $\\ket{\\psi}$ to denote a vector $\\psi$.\n",
    "- $\\mathbb{C}^n$ also contains a special *zero vector* denoted as $0$ which satisfies: $\\ket{v}+0=\\ket{v}$ and $\\ket{v} 0 = 0$. **Note:** $\\ket{0}$ is not the zero vector.\n",
    "- $V$ is a subset of vector space $W$ if $V$ is a closed under addition and scalar multiplication."
   ]
  },
  {
   "cell_type": "markdown",
   "metadata": {},
   "source": [
    "**Spanning set:** A spanning set for a vector space is a set of vectors $\\ket{v_1},\\cdots,\\ket{v_n}$ such that any vector $\\ket{v}$ in the vector space can be written as a linear combination of vectors in that set, i.e.  $\\ket{v} = \\sum a_i \\ket{v_i}$.\n",
    "- *Linearly (in)dependecy*: A set of non-zero vectors $\\ket{v_1}, \\cdots , \\ket{v_n}$ are linearly dependent if there exists a set of non-zero complex numbers $a_i$ for at least one value of $i$, such that $\\sum a_i \\ket{v_i}=0$. Otherwise, they are linearly independent. In a simple word, a set if linearly independent if none of the elements is the result of the linear combination of the other elements.\n",
    "- *basis of a vector space*: The elements of a linearly independent set which span a vector space $V$ are called a basis set for $V$.\n",
    "- *dimension of a vector space*: The cardinality of the basis set of $V$ is defined as the dimension of $V$.\n",
    "\n",
    "\n",
    "\n"
   ]
  },
  {
   "cell_type": "markdown",
   "metadata": {},
   "source": [
    "**Linear Operators:** A linear operator between vector spaces $V$ and $W$ is defined to be any function $A : V \\rightarrow W$ which is linear in its inputs, i.e. $A \\Bigl( \\sum a_i \\ket{v_i} \\Bigr) = \\sum a_i A (\\ket{v_i}) $\n",
    "- Identity operator: $I$ is a linear operator on $V$ ($I: V \\rightarrow V$) defined as: $I \\ket{v} = \\ket{v}$.\n",
    "- Zero operator: $0: V \\rightarrow V$; $0 \\ket{v} = \\ket{v}$.\n",
    "- composition: Assume $A: V \\rightarrow W$ and $B: W \\rightarrow X$. $BA$ is a operator which is defined as the composition of $B$ with $A$ defined as $(BA)(\\ket{v})=B(A\\ket{v})$.\n",
    "- matrix as operator: [todo: define how one can define the matrix based on the semantics of the operator]\n",
    "- The Pauli matrices: The Pauli matrices are very common in quantum computing and defined as below\n",
    "\n",
    "$\\sigma_0 \\equiv I \\equiv \\begin{bmatrix} 1 & 0 \\\\ 0 & 1 \\end{bmatrix}$ , $\\sigma_1 \\equiv \\sigma_x \\equiv X \\equiv \\begin{bmatrix} 0 & 1 \\\\ 1 & 0 \\end{bmatrix}$ , $\\sigma_2 \\equiv \\sigma_y \\equiv Y \\equiv \\begin{bmatrix} 0 & -i \\\\ i & 0 \\end{bmatrix}$ , $\\sigma_3 \\equiv \\sigma_z \\equiv Z \\equiv \\begin{bmatrix} 1 & 0 \\\\ 0 & -1 \\end{bmatrix}$"
   ]
  },
  {
   "cell_type": "markdown",
   "metadata": {},
   "source": [
    "**Inner products** [todo: add the definition]"
   ]
  },
  {
   "cell_type": "markdown",
   "metadata": {},
   "source": [
    "### Exercises:\n",
    "**Note:** For convenience, instead of the vertical matrix representaion we use n-tuples form of the elements of a vector. For example, instead of $\\begin{bmatrix} 1 \\\\ 0 \\end{bmatrix}$ we will use $(1,0)$.\n",
    " \n",
    "1. Check if $\\bigl\\{(1,0) , (0,1)\\bigr\\}$ is a spanning set for $\\mathbb{C}^2$.\n",
    "2. Check if $\\bigl\\{\\frac{1}{\\sqrt{2}}( 1 , 1 ) , \\frac{1}{\\sqrt{2}}( 1 , -1 ) \\bigr\\}$ is a spanning set for $\\mathbb{C}^2$.\n",
    "3. Show that $\\bigl\\{(1,-1) , (1,2) , (2,1)\\bigr\\}$ is a linearly dependent set.\n",
    "4. Define a linearly independent set for $\\mathbb{C}^2$\n"
   ]
  }
 ],
 "metadata": {
  "language_info": {
   "name": "python"
  }
 },
 "nbformat": 4,
 "nbformat_minor": 2
}
