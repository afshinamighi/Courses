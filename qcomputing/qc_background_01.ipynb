{
 "cells": [
  {
   "cell_type": "markdown",
   "metadata": {},
   "source": [
    "*Life is complex - it has both real and imaginary parts.*\n",
    "- Anonymous\n",
    "\n",
    "# Linear Algebra for QC: Summary\n",
    "\n",
    "In this collection, a summary of the main concepts and definitions are provided to support the background that is necessary for learning Quantum Computing. \n",
    "\n",
    "**Reference:** *Michael A. Nielsen, Isaac L. Chuang*; [\"Quantum Computation and Quantum Information\"](https://www.cambridge.org/highereducation/books/quantum-computation-and-quantum-information/01E10196D0A682A6AEFFEA52D53BE9AE#overview)"
   ]
  },
  {
   "cell_type": "markdown",
   "metadata": {},
   "source": [
    "**Vector Space:** The space of all n-tuples of complex numbers like $(z_1,\\cdots, z_n)$ is a vector space denoted as $\\mathbb{C}^n$. Each element (each n-tuple) is a vector and sometimes represented as a column matrix notation\n",
    "\n",
    "\\begin{bmatrix}\n",
    "z_1 \\\\ z_2 \\\\ . \\\\ . \\\\ . \\\\ z_n\n",
    "\\end{bmatrix}"
   ]
  }
 ],
 "metadata": {
  "language_info": {
   "name": "python"
  }
 },
 "nbformat": 4,
 "nbformat_minor": 2
}
