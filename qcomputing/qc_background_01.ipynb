{
 "cells": [
  {
   "cell_type": "markdown",
   "metadata": {},
   "source": [
    "*Life is complex - it has both real and imaginary parts.*\n",
    "- Anonymous\n",
    "\n",
    "# Linear Algebra for QC: Summary\n",
    "\n",
    "In this collection, a summary of the main concepts and definitions are provided to support the background that is necessary for learning Quantum Computing. \n",
    "\n",
    "**Reference:** *Michael A. Nielsen, Isaac L. Chuang*; [\"Quantum Computation and Quantum Information\"](https://www.cambridge.org/highereducation/books/quantum-computation-and-quantum-information/01E10196D0A682A6AEFFEA52D53BE9AE#overview)"
   ]
  },
  {
   "cell_type": "markdown",
   "metadata": {},
   "source": [
    "**Vector Space:** The space of all n-tuples of complex numbers like $(z_1,\\cdots, z_n)$ is a vector space denoted as $\\mathbb{C}^n$. Each element (each n-tuple) is a vector and sometimes represented as a column matrix notation\n",
    "\n",
    "\\begin{bmatrix}\n",
    "z_1 \\\\ z_2 \\\\ . \\\\ . \\\\ . \\\\ z_n\n",
    "\\end{bmatrix}\n",
    "\n",
    "- $\\mathbb{C}^n$ is closed under addition and scalar multiplication.\n",
    "- Physisits studying quantum mechanics are using $\\ket{\\psi}$ to denote a vector $\\psi$.\n",
    "- $\\mathbb{C}^n$ also contains a special *zero vector* denoted as $0$ which satisfies: $\\ket{v}+0=\\ket{v}$ and $\\ket{v} 0 = 0$. **Note:** $\\ket{0}$ is not the zero vector.\n",
    "- $V$ is a subset of vector space $W$ if $V$ is a closed under addition and scalar multiplication."
   ]
  },
  {
   "cell_type": "markdown",
   "metadata": {},
   "source": [
    "**Spanning set:** A spanning set for a vector space is a set of vectors $\\ket{v_1},\\cdots,\\ket{v_n}$ such that any vector $\\ket{v}$ in the vector space can be written as a linear combination of vectors in that set, i.e.  $\\ket{v} = \\sum a_i \\ket{v_i}$.\n",
    "- *Linearly (in)dependecy*: [todo]\n",
    "- *basis of a vector space*: [todo]\n",
    "- *dimension of a vector space*: [todo]\n",
    "\n",
    "\n",
    "\n",
    "### Exercises:\n",
    "- Check if $\\Bigl\\{\\begin{bmatrix} 1 \\\\ 0 \\end{bmatrix} , \\begin{bmatrix} 0 \\\\ 1 \\end{bmatrix}\\Bigr\\}$ is a spanning set for $\\mathbb{C}^2$.\n",
    "- Check if $\\Bigl\\{\\frac{1}{\\sqrt{2}}\\begin{bmatrix} 1 \\\\ 1 \\end{bmatrix} , \\frac{1}{\\sqrt{2}}\\begin{bmatrix} 1 \\\\ -1 \\end{bmatrix}\\Bigr\\}$ is a spanning set for $\\mathbb{C}^2$."
   ]
  }
 ],
 "metadata": {
  "language_info": {
   "name": "python"
  }
 },
 "nbformat": 4,
 "nbformat_minor": 2
}
